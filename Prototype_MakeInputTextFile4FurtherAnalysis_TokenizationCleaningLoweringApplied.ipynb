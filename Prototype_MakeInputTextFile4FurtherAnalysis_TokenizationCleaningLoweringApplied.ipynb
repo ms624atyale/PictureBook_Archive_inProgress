{
  "nbformat": 4,
  "nbformat_minor": 0,
  "metadata": {
    "colab": {
      "provenance": [],
      "authorship_tag": "ABX9TyN50zSALa3phgHLQaN584v7",
      "include_colab_link": true
    },
    "kernelspec": {
      "name": "python3",
      "display_name": "Python 3"
    },
    "language_info": {
      "name": "python"
    }
  },
  "cells": [
    {
      "cell_type": "markdown",
      "metadata": {
        "id": "view-in-github",
        "colab_type": "text"
      },
      "source": [
        "<a href=\"https://colab.research.google.com/github/ms624atyale/PictureBook_Archive_inProgress/blob/main/Prototype_MakeInputTextFile4FurtherAnalysis_TokenizationCleaningLoweringApplied.ipynb\" target=\"_parent\"><img src=\"https://colab.research.google.com/assets/colab-badge.svg\" alt=\"Open In Colab\"/></a>"
      ]
    },
    {
      "cell_type": "markdown",
      "source": [
        "#1️⃣ <font color = 'red'> 🐹🐾 **Final Script to prepare input text for further analysis (e.g., Wordcloud, Lexical Diversity, etc.)**\n",
        "\n",
        "  - # <font color = 'blue'> 🐹🐾 **Important & Useful!**\n",
        "  - ### **This script is based on plain text for \"Household Stories by the Brothers Grimm\" under the Repository of \"PictureBook_Archive_inProgress\".**"
      ],
      "metadata": {
        "id": "DlRtfSQYdex6"
      }
    },
    {
      "cell_type": "code",
      "execution_count": null,
      "metadata": {
        "colab": {
          "base_uri": "https://localhost:8080/"
        },
        "id": "GT0LsgO85fCm",
        "outputId": "f7c382de-1e41-410f-e40c-6e337ec9ecc9"
      },
      "outputs": [
        {
          "output_type": "stream",
          "name": "stdout",
          "text": [
            "Cloning into 'PictureBook_Archive_inProgress'...\n",
            "remote: Enumerating objects: 142, done.\u001b[K\n",
            "remote: Counting objects: 100% (142/142), done.\u001b[K\n",
            "remote: Compressing objects: 100% (138/138), done.\u001b[K\n",
            "remote: Total 142 (delta 70), reused 0 (delta 0), pack-reused 0 (from 0)\u001b[K\n",
            "Receiving objects: 100% (142/142), 1.58 MiB | 4.31 MiB/s, done.\n",
            "Resolving deltas: 100% (70/70), done.\n"
          ]
        }
      ],
      "source": [
        "! git clone https://github.com/GithubAccount/RepositoryName   #Make copy of the whole repository of a github account."
      ]
    },
    {
      "cell_type": "markdown",
      "source": [
        "##<font color = 'red'> 🆘 **ALERT**\n",
        "## <font color = 'red'> 🆘 **Important & Useful!**\n",
        "\n",
        "## ⤵️ In order to avoid setting a new repository being created as a subdirectory of the old one\n",
        "\n",
        "### <font color = 'blue'> <Python code>\n",
        "### <font color = 'blue'> %cd /content  # Moves to the default root directory in Google Colab\n",
        "\n",
        "## ⤵️ In order to delete the old directory forcefully\n",
        "\n",
        "### <font color = 'blue'> **▶️ Python code**\n",
        "### <font color = 'gray'> **! rm -rf NameofOldRepository**          \n",
        "\n",
        "### <font color = 'gray'> (e.g., **! rm -rf NLP_PictureBook_2025**)\n",
        "\n",
        "# **If this is not working out, rename the old, existing folder as <Eliminated> and drag the new repository under %content/.**\n"
      ],
      "metadata": {
        "id": "fPmvcdN0KP_0"
      }
    },
    {
      "cell_type": "markdown",
      "source": [
        "#2️⃣ 🐹🐾 **Set up the current directory**"
      ],
      "metadata": {
        "id": "7l39aMcg6QF8"
      }
    },
    {
      "cell_type": "code",
      "source": [
        "%cd /content/NameofRepositoryCloned"
      ],
      "metadata": {
        "colab": {
          "base_uri": "https://localhost:8080/"
        },
        "id": "NyQD9Oxo7Me6",
        "outputId": "fee7554f-39a2-4b43-d2d1-99483b4a07fd"
      },
      "execution_count": null,
      "outputs": [
        {
          "output_type": "stream",
          "name": "stdout",
          "text": [
            "/content/PictureBook_Archive_inProgress\n"
          ]
        }
      ]
    },
    {
      "cell_type": "markdown",
      "source": [
        "#3️⃣ 🐹🐾 **Read the txt file**"
      ],
      "metadata": {
        "id": "ugQTa2Md66W5"
      }
    },
    {
      "cell_type": "code",
      "source": [
        "# ▶️1️⃣ You need to modify this codeline 🍩🎂🍎🍏🍦\n",
        "file = open(\"/content/RepositoryNameUnderColabFiles/Folder/FileName.txt\", 'rt')\n",
        "\n",
        "txt = file.read()\n",
        "print(txt)\n",
        "file.close() #Using this close()function, you are no longer using your text file of the current workingdirectory with open()function."
      ],
      "metadata": {
        "id": "r_tn-hJp9gje",
        "collapsed": true
      },
      "execution_count": null,
      "outputs": []
    },
    {
      "cell_type": "markdown",
      "source": [
        "#4️⃣ 🐹🐾 **Read the txt file**"
      ],
      "metadata": {
        "id": "jt3svU1cp2zm"
      }
    },
    {
      "cell_type": "code",
      "source": [
        "!pip install nltk\n",
        "import nltk\n",
        "nltk.download('punkt')\n",
        "nltk.download('punkt_tab')"
      ],
      "metadata": {
        "id": "gBwuDza2-JwS",
        "collapsed": true
      },
      "execution_count": null,
      "outputs": []
    },
    {
      "cell_type": "markdown",
      "source": [
        "# 5️⃣ 🐹🐾 **Read the txt file**"
      ],
      "metadata": {
        "id": "pU7HuODPp4H9"
      }
    },
    {
      "cell_type": "code",
      "source": [
        "from nltk.tokenize import sent_tokenize\n",
        "sentence = sent_tokenize(txt)\n",
        "print('Sentence Tokenized: %s' %sentence)"
      ],
      "metadata": {
        "id": "6nya4AxT-2iR"
      },
      "execution_count": null,
      "outputs": []
    },
    {
      "cell_type": "markdown",
      "source": [
        "# 6️⃣ 📍📍 **Run the following code cell for applying replace function**"
      ],
      "metadata": {
        "id": "s9pIkCMfI-oc"
      }
    },
    {
      "cell_type": "code",
      "source": [
        "# Open the input file in read-text mode\n",
        "\n",
        "# ▶️2️⃣ You need to modify this codeline 🍩🎂🍎🍏🍦\n",
        "fl = open(\"/content/RepositoryNameUnderColabFiles/Folder/FileName.txt\", 'rt')\n",
        "\n",
        "# Read the content, convert to lowercase, and clean unwanted characters\n",
        "fl_content = fl.read().replace(\"\\n\", \" \").replace(\"\\“\", \"\").replace(\"\\\"\", \"\").replace(\"\\”\", \"\").replace(\"_\", \"\").replace(\"[illustration]\", \"\").replace(\"[Illustration]\", \"\".replace(\"*\",\"\"))\n",
        "# Close the input file\n",
        "fl.close()\n",
        "\n",
        "# ▶️3️⃣ Write the processed content to a new text file\n",
        "# You need to modify this codeline 🍩🎂🍎🍏🍦\n",
        "with open(\"/content/RepositoryNameUnderColabFiles/Folder/FileName.txt\", 'w') as cf:  # Ensure .txt extension is added;\n",
        "  cf.write(fl_content)\n",
        "\n",
        "# Print the processed content to verify\n",
        "print(fl_content)  # Write the cleaned content to the output file"
      ],
      "metadata": {
        "colab": {
          "base_uri": "https://localhost:8080/"
        },
        "id": "kMZTfDGjET13",
        "outputId": "6d4a8d2c-2b09-4836-de4e-315b16911f48"
      },
      "execution_count": null,
      "outputs": [
        {
          "output_type": "stream",
          "name": "stdout",
          "text": [
            "  With Illustrations by S. Beatrice Pearse        [Illustration: The Queen came in most splendidly dressed p. 27]   THE MAGIC FISHBONE  A Holiday Romance from the Pen of Miss Alice Rainbird Aged 7.  by  CHARLES DICKENS    London: Constable and Co. Ltd.     FOREWORD   The story contained herein was written by Charles Dickens in 1867. It is the second of four stories entitled Holiday Romance and was published originally in a children's magazine in America. It purports to be written by a child aged seven. It was republished in England in All the Year Round in 1868. For this and four other Christmas pieces Dickens received £1,000.  Holiday Romance was published in book form by Messrs Chapman & Hall in 1874, with Edwin Drood and other stories.  For this reprint the text of the story as it appeared in All the Year Round has been followed.                   *       *       *       *       *   [Illustration: SEVERAL OF THE CHILDREN WERE GROWING OUT OF THEIR CLOTHES]  There was once a King, and he had a Queen; and he was the manliest of his sex, and she was the loveliest of hers. The King was, in his private profession, Under Government. The Queen's father had been a medical man out of town.  They had nineteen children, and were always having more. Seventeen of these children took care of the baby; and Alicia, the eldest, took care of them all. Their ages varied from seven years to seven months.  Let us now resume our story.  One day the King was going to the office, when he stopped at the fishmonger's to buy a pound and a half of salmon not too near the tail, which the Queen (who was a careful housekeeper) had requested him to send home. Mr Pickles, the fishmonger, said, Certainly, sir, is there any other article, Good-morning.  The King went on towards the office in a melancholy mood, for quarter day was such a long way off, and several of the dear children were growing out of their clothes. He had not proceeded far, when Mr Pickles's errand-boy came running after him, and said, Sir, you didn't notice the old lady in our shop.  What old lady? enquired the King. I saw none.  Now, the King had not seen any old lady, because this old lady had been invisible to him, though visible to Mr Pickles's boy. Probably because he messed and splashed the water about to that degree, and flopped the pairs of soles down in that violent manner, that, if she had not been visible to him, he would have spoilt her clothes.  Just then the old lady came trotting up. She was dressed in shot-silk of the richest quality, smelling of dried lavender.  King Watkins the First, I believe? said the old lady.  Watkins, replied the King, is my name.  Papa, if I am not mistaken, of the beautiful Princess Alicia? said the old lady.  And of eighteen other darlings, replied the King.  Listen. You are going to the office, said the old lady.  It instantly flashed upon the King that she must be a Fairy, or how could she know that?  You are right, said the old lady, answering his thoughts, I am the Good Fairy Grandmarina. Attend. When you return home to dinner, politely invite the Princess Alicia to have some of the salmon you bought just now.  It may disagree with her, said the King.  The old lady became so very angry at this absurd idea, that the King was quite alarmed, and humbly begged her pardon.  We hear a great deal too much about this thing disagreeing, and that thing disagreeing, said the old lady, with the greatest contempt it was possible to express. Don't be greedy. I think you want it all yourself.  The King hung his head under this reproof, and said he wouldn't talk about things disagreeing, any more.  Be good, then, said the Fairy Grandmarina, and don't! When the beautiful Princess Alicia consents to partake of the salmon--as I think she will--you will find she will leave a fish-bone on her plate. Tell her to dry it, and to rub it, and to polish it till it shines like mother-of-pearl, and to take care of it as a present from me.  Is that all? asked the King.  Don't be impatient, sir, returned the Fairy Grandmarina, scolding him severely. Don't catch people short, before they have done speaking. Just the way with you grown-up persons. You are always doing it.  The King again hung his head, and said he wouldn't do so any more.  Be good then, said the Fairy Grandmarina, and don't! Tell the Princess Alicia, with my love, that the fish-bone is a magic present which can only be used once; but that it will bring her, that once, whatever she wishes for, PROVIDED SHE WISHES FOR IT AT THE RIGHT TIME. That is the message. Take care of it.  [Illustration: HOITY TOITY ME!]  The King was beginning, Might I ask the reason--? when the Fairy became absolutely furious.  Will you be good, sir? she exclaimed, stamping her foot on the ground. The reason for this, and the reason for that, indeed! You are always wanting the reason. No reason. There! Hoity toity me! I am sick of your grown-up reasons.  The King was extremely frightened by the old lady's flying into such a passion, and said he was very sorry to have offended her, and he wouldn't ask for reasons any more.  Be good then, said the old lady, and don't!  With those words, Grandmarina vanished, and the King went on and on and on, till he came to the office. There he wrote and wrote and wrote, till it was time to go home again. Then he politely invited the Princess Alicia, as the Fairy had directed him, to partake of the salmon. And when she had enjoyed it very much, he saw the fish-bone on her plate, as the Fairy had told him he would, and he delivered the Fairy's message, and the Princess Alicia took care to dry the bone, and to rub it, and to polish it till it shone like mother-of-pearl.  [Illustration: He saw the Fish-bone on her Plate]  And so when the Queen was going to get up in the morning, she said, O, dear me, dear me; my head, my head! and then she fainted away.  The Princess Alicia, who happened to be looking in at the chamber-door, asking about breakfast, was very much alarmed when she saw her Royal Mamma in this state, and she rang the bell for Peggy, which was the name of the Lord Chamberlain. But remembering where the smelling-bottle was, she climbed on a chair and got it, and after that she climbed on another chair by the bedside and held the smelling-bottle to the Queen's nose, and after that she jumped down and got some water, and after that she jumped up again and wetted the Queen's forehead, and, in short, when the Lord Chamberlain came in, that dear old woman said to the little Princess, What a Trot you are! I couldn't have done it better myself!    But that was not the worst of the good Queen's illness. O, no! She was very ill indeed, for a long time. The Princess Alicia kept the seventeen young Princes and Princesses quiet, and dressed and undressed and danced the baby, and made the kettle boil, and heated the soup, and swept the hearth, and poured out the medicine, and nursed the Queen, and did all that ever she could, and was as busy busy busy, as busy could be. For there were not many servants at that Palace, for three reasons; because the King was short of money, because a rise in his office never seemed to come, and because quarter day was so far off that it looked almost as far off and as little as one of the stars.  But on the morning when the Queen fainted away, where was the magic fish-bone? Why, there it was in the Princess Alicia's pocket. She had almost taken it out to bring the Queen to life again, when she put it back, and looked for the smelling-bottle.  After the Queen had come out of her swoon that morning, and was dozing, the Princess Alicia hurried up-stairs to tell a most particular secret to a most particularly confidential friend of hers, who was a Duchess. People did suppose her to be a Doll; but she was really a Duchess, though nobody knew it except the Princess.    This most particular secret was a secret about the magic fish-bone, the history of which was well known to the Duchess, because the Princess told her everything. The Princess kneeled down by the bed on which the Duchess was lying, full-dressed and wide awake, and whispered the secret to her. The Duchess smiled and nodded. People might have supposed that she never smiled and nodded, but she often did, though nobody knew it except the Princess.  Then the Princess Alicia hurried downstairs again, to keep watch in the Queen's room. She often kept watch by herself in the Queen's room; but every evening, while the illness lasted, she sat there watching with the King. And every evening the King sat looking at her with a cross look, wondering why she never brought out the magic fish-bone. As often as she noticed this, she ran up-stairs, whispered the secret to the Duchess over again, and said to the Duchess besides, They think we children never have a reason or a meaning! And the Duchess, though the most fashionable Duchess that ever was heard of, winked her eye.  Alicia, said the King, one evening when she wished him Good Night.  Yes, Papa.  What is become of the magic fish-bone?  In my pocket, Papa.  I thought you had lost it?  O, no, Papa.  Or forgotten it?  No, indeed, Papa.  And so another time the dreadful little snapping pug-dog next door made a rush at one of the young Princes as he stood on the steps coming home from school, and terrified him out of his wits and he put his hand through a pane of glass, and bled bled bled. When the seventeen other young Princes and Princesses saw him bleed bleed bleed, they were terrified out of their wits too, and screamed themselves black in their seventeen faces all at once. But the Princess Alicia put her hands over all their seventeen mouths, one after another, and persuaded them to be quiet because of the sick Queen. And then she put the wounded Prince's hand in a basin of fresh cold water, while they stared with their twice seventeen are thirty-four put down four and carry three eyes, and then she looked in the hand for bits of glass, and there were fortunately no bits of glass there. And then she said to two chubby-legged Princes who were sturdy though small, Bring me in the Royal rag-bag; I must snip and stitch and cut and contrive. So those two young Princes tugged at the Royal rag-bag and lugged it in, and the Princess Alicia sat down on the floor with a large pair of scissors and a needle and thread, and snipped and stitched and cut and contrived, and made a bandage and put it on, and it fitted beautifully, and so when it was all done she saw the King her Papa looking on by the door.    Alicia.  Yes, Papa.  What have you been doing?  Snipping stitching cutting and contriving, Papa.  Where is the magic fish-bone?  In my pocket, Papa.  I thought you had lost it?  O, no, Papa.  Or forgotten it?  No, indeed, Papa.  After that, she ran up-stairs to the Duchess and told her what had passed, and told her the secret over again, and the Duchess shook her flaxen curls and laughed with her rosy lips.    Well! and so another time the baby fell under the grate. The seventeen young Princes and Princesses were used to it, for they were almost always falling under the grate or down the stairs, but the baby was not used to it yet, and it gave him a swelled face and a black eye. The way the poor little darling came to tumble was, that he slid out of the Princess Alicia's lap just as she was sitting in a great coarse apron that quite smothered her, in front of the kitchen-fire, beginning to peel the turnips for the broth for dinner; and the way she came to be doing that was, that the King's cook had run away that morning with her own true love who was a very tall but very tipsy soldier. Then, the seventeen young Princes and Princesses, who cried at everything that happened, cried and roared. But the Princess Alicia (who couldn't help crying a little herself) quietly called to them to be still, on account of not throwing back the Queen up-stairs, who was fast getting well, and said, Hold your tongues, you wicked little monkeys, every one of you, while I examine baby! Then she examined baby, and found that he hadn't broken anything, and she held cold iron to his poor dear eye, and smoothed his poor dear face, and he presently fell asleep in her arms. Then, she said to the seventeen Princes and Princesses, I am afraid to lay him down yet, lest he should wake and feel pain, be good, and you shall all be cooks. They jumped for joy when they heard that, and began making themselves cooks' caps out of old newspapers. So to one she gave the salt-box, and to one she gave the barley, and to one she gave the herbs, and to one she gave the turnips, and to one she gave the carrots, and to one she gave the onions, and to one she gave the spice-box, till they were all cooks, and all running about at work, she sitting in the middle smothered in the great coarse apron, nursing baby. By and by the broth was done, and the baby woke up smiling like an angel, and was trusted to the sedatest Princess to hold, while the other Princes and Princesses were squeezed into a far-off corner to look at the Princess Alicia turning out the saucepan-full of broth, for fear (as they were always getting into trouble) they should get splashed and scalded. When the broth came tumbling out, steaming beautifully, and smelling like a nosegay good to eat, they clapped their hands. That made the baby clap his hands; and that, and his looking as if he had a comic toothache, made all the Princes and Princesses laugh. So the Princess Alicia said, Laugh and be good, and after dinner we will make him a nest on the floor in a corner, and he shall sit in his nest and see a dance of eighteen cooks. That delighted the young Princes and Princesses, and they ate up all the broth, and washed up all the plates and dishes, and cleared away, and pushed the table into a corner, and then they in their cooks' caps, and the Princess Alicia in the smothering coarse apron that belonged to the cook that had run away with her own true love that was the very tall but very tipsy soldier, danced a dance of eighteen cooks before the angelic baby, who forgot his swelled face and his black eye, and crowed with joy.  [Illustration: The Dance of the Eighteen Cooks]  And so then, once more the Princess Alicia saw King Watkins the First, her father, standing in the doorway looking on, and he said: What have you been doing, Alicia?  Cooking and contriving, Papa.  What else have you been doing, Alicia?  Keeping the children light-hearted, Papa.  Where is the magic fish-bone, Alicia?  In my pocket, Papa.  I thought you had lost it?  O, no, Papa.  Or forgotten it?  No, indeed, Papa.  The King then sighed so heavily, and seemed so low-spirited, and sat down so miserably, leaning his head upon his hand, and his elbow upon the kitchen table pushed away in the corner, that the seventeen Princes and Princesses crept softly out of the kitchen, and left him alone with the Princess Alicia and the angelic baby.  What is the matter, Papa?  I am dreadfully poor, my child.  Have you no money at all, Papa?  [Illustration: What is the matter, Papa?]  None my child.  Is there no way left of getting any, Papa?  No way, said the King. I have tried very hard, and I have tried all ways.  When she heard those last words, the Princess Alicia began to put her hand into the pocket where she kept the magic fish-bone.  Papa, said she, when we have tried very hard, and tried all ways, we must have done our very very best?  No doubt, Alicia.  When we have done our very very best, Papa, and that is not enough, then I think the right time must have come for asking help of others. This was the very secret connected with the magic fish-bone, which she had found out for herself from the good fairy Grandmarina's words, and which she had so often whispered to her beautiful and fashionable friend the Duchess.  So she took out of her pocket the magic fish-bone that had been dried and rubbed and polished till it shone like mother-of-pearl; and she gave it one little kiss and wished it was quarter day. And immediately it was quarter day; and the King's quarter's salary came rattling down the chimney, and bounced into the middle of the floor.  But this was not half of what happened, no not a quarter, for immediately afterwards the good fairy Grandmarina came riding in, in a carriage and four (Peacocks), with Mr Pickles's boy up behind, dressed in silver and gold, with a cocked hat, powdered hair, pink silk stockings, a jewelled cane, and a nosegay. Down jumped Mr Pickles's boy with his cocked hat in his hand and wonderfully polite (being entirely changed by enchantment), and handed Grandmarina out, and there she stood in her rich shot silk smelling of dried lavender, fanning herself with a sparkling fan.  Alicia, my dear, said this charming old Fairy, how do you do, I hope I see you pretty well, give me a kiss.  The Princess Alicia embraced her, and then Grandmarina turned to the King, and said rather sharply:--Are you good?  [Illustration: Alicia, my dear ... how do you do?]  The King said he hoped so.  I suppose you know the reason, now, why my god-Daughter here, kissing the Princess again, did not apply to the fish-bone sooner? said the Fairy.  The King made her a shy bow.  Ah! but you didn't then! said the Fairy.  The King made her a shyer bow.  Any more reasons to ask for? said the Fairy.  The King said no, and he was very sorry.  Be good then, said the Fairy, and live happy ever afterwards.  Then, Grandmarina waved her fan, and the Queen came in most splendidly dressed, and the seventeen young Princes and Princesses, no longer grown out of their clothes, came in newly fitted out from top to toe, with tucks in everything to admit of its being let out. After that, the Fairy tapped the Princess Alicia with her fan, and the smothering coarse apron flew away, and she appeared exquisitely dressed, like a little Bride, with a wreath of orange-flowers and a silver veil. After that, the kitchen dresser changed of itself into a wardrobe, made of beautiful woods and gold and looking glass, which was full of dresses of all sorts, all for her and all exactly fitting her. After that, the angelic baby came in, running alone, with his face and eye not a bit the worse but much the better. Then, Grandmarina begged to be introduced to the Duchess, and, when the Duchess was brought down many compliments passed between them.  A little whispering took place between the Fairy and the Duchess, and then the Fairy said out loud, Yes. I thought she would have told you. Grandmarina then turned to the King and Queen, and said, We are going in search of Prince Certainpersonio. The pleasure of your company is requested at church in half an hour precisely. So she and the Princess Alicia got into the carriage, and Mr Pickles's boy handed in the Duchess who sat by herself on the opposite seat, and then Mr Pickles's boy put up the steps and got up behind, and the Peacocks flew away with their tails spread.  [Illustration: She appeared exquisitely dressed, like a little Bride]  Prince Certainpersonio was sitting by himself, eating barley-sugar and waiting to be ninety. When he saw the Peacocks followed by the carriage, coming in at the window, it immediately occurred to him that something uncommon was going to happen.  Prince, said Grandmarina, I bring you your Bride.  The moment the Fairy said those words, Prince Certainpersonio's face left off being stickey, and his jacket and corduroys changed to peach-bloom velvet, and his hair curled, and a cap and feather flew in like a bird and settled on his head. He got into the carriage by the Fairy's invitation, and there he renewed his acquaintance with the Duchess, whom he had seen before.  In the church were the Prince's relations and friends, and the Princess Alicia's relations and friends, and the seventeen Princes and Princesses, and the baby, and a crowd of the neighbours. The marriage was beautiful beyond expression. The Duchess was bridesmaid, and beheld the ceremony from the pulpit where she was supported by the cushion of the desk.  Grandmarina gave a magnificent wedding feast afterwards, in which there was everything and more to eat, and everything and more to drink. The wedding cake was delicately ornamented with white satin ribbons, frosted silver and white lilies, and was forty-two yards round.  When Grandmarina had drunk her love to the young couple, and Prince Certainpersonio had made a speech, and everybody had cried Hip hip hip hurrah! Grandmarina announced to the King and Queen that in future there would be eight quarter days in every year, except in leap year, when there would be ten. She then turned to Certainpersonio and Alicia, and said, My dears, you will have thirty-five children, and they will all be good and beautiful. Seventeen of your children will be boys, and eighteen will be girls. The hair of the whole of your children will curl naturally. They will never have the measles, and will have recovered from the whooping-cough before being born.  On hearing such good news, everybody cried out Hip hip hip hurrah! again.  It only remains, said Grandmarina in conclusion, to make an end of the fish-bone.  So she took it from the hand of the Princess Alicia, and it instantly flew down the throat of the dreadful little snapping pug-dog next door and choked him, and he expired in convulsions.@THE MAGIC FISHBONE@CHARLES DICKENS \n"
          ]
        }
      ]
    },
    {
      "cell_type": "markdown",
      "source": [],
      "metadata": {
        "id": "HM6n-gwIqLgn"
      }
    },
    {
      "cell_type": "markdown",
      "source": [
        "# 7️⃣ 🐹🐾 **Read the txt file**"
      ],
      "metadata": {
        "id": "SACJ4rQ5qPo-"
      }
    },
    {
      "cell_type": "code",
      "source": [
        "# 💡💊 Tokenization with RegexpTokeizer\n",
        "\n",
        "# ▶️4️⃣ You need to modify this codeline 🍩🎂🍎🍏🍦\n",
        "nf = open(\"/content/RepositoryNameUnderColabFiles/Folder/FileName.txt\", 'rt') #reading the new file as nf using the 'rt'\n",
        "obj = nf.read().lower()\n",
        "\n",
        "# Regular expression to match a quotation mark followed by a space\n",
        "import re\n",
        "f_text = re.sub(r'^\\s+', '\"', obj) #fixed text as f_text\n",
        "print(f_text)\n",
        "\n",
        "# ▶️5️⃣ You need to modify this codeline 🍩🎂🍎🍏🍦\n",
        "with open('/content/FileName_lower_nosymbol.txt', 'w') as cf:\n",
        "  cf.write(obj)\n",
        "\n",
        "from nltk.tokenize import sent_tokenize\n",
        "sentence = sent_tokenize(obj)\n",
        "print('Sentence Tokenized: %s' %sentence)\n",
        "\n",
        "from nltk.tokenize import RegexpTokenizer #RegexpTokenizer as a class\n",
        "import re\n",
        "\n",
        "tok = RegexpTokenizer(\"[\\w]+\") # Alert: You cannot use RegexpTokenizer() without argument. You need a regexpression formula.\n",
        "\n",
        "tk = tok.tokenize(obj)\n",
        "print('Tokenizing Words with RegexpTokenizer: %s' %tk)\n",
        "\n",
        "print(' '.join(tk)) #small characters\n",
        "#alternatively, use the codeline of ' '.join(tkn)\n",
        "\n"
      ],
      "metadata": {
        "id": "L8NQ_l5kk6zE",
        "collapsed": true
      },
      "execution_count": null,
      "outputs": []
    },
    {
      "cell_type": "markdown",
      "source": [
        "#⚠️ 🇰🇷 <font color = 'green'>**This is the end of the Script! You did a good job!** **"
      ],
      "metadata": {
        "id": "DUcWWwfGCGf7"
      }
    },
    {
      "cell_type": "markdown",
      "source": [
        "#**🌿🍄🌵  ⛔Do Not Run the following code cell, it is just a sample to look up!**\n",
        "###**🔨 **SAMPLE: Replacing capital letters with small characters, elimnating lines and unnecessary symbols & phrases**\n",
        "###**🔨 **Functions are sequentially applied by using a period (e.g., **read().replace(\"\\n\", \" \").replace(\"\\“\", \"\").replace(\"\\\"\", \"\").replace(\"\\”\", \"\").replace(\"_\", \"\").r.replace(\"[illustration]\", \"\")**)\n",
        "\n",
        ">\n",
        "**<font color = 'red'>_Excamples with replace( ) function are such as_**\n",
        "- replace(\"\\n\", \" \")\n",
        "- replace(\"\\“\", \"\")\n",
        "- replace(\"\\\"\", \"\")\n",
        "- replace(\"\\”\", \"\")\n",
        "- replace(\"_\", \"\")\n",
        "- replace(\"[illustration]\"\n",
        "- replace(\"[Illustration]\"\n",
        "- replace(\"[added ]\", \"\").replace(\"[added .]\", \"\")\n",
        "- replace(\"[changed . to ,]\", \"\")\n",
        "- replace(\"[deleted repeated word]\", \"\")\n",
        "- replace(\"[changed ' to ? and added ]\", \"\")\n"
      ],
      "metadata": {
        "id": "76xAM-epQOHo"
      }
    },
    {
      "cell_type": "markdown",
      "source": [
        "###**<font color = 'red'>Gneral Information**\n",
        "Function.\tType\tsymbols or words\tresult\texample\n",
        "RegexpTokenizer()\tpunctuation\t\".\", \",\", \"?\", \"!\", \";\", \":\"\tdeleted\n",
        "apostrophe\t\"'\"\tdeleted\n",
        "word-linking hyphen\t\"-\"\tdeleted\n",
        "phrase-linking hyphen\t\"--\"\tdeleted\n",
        "Capital vs. small\tThe ones\ttokenize\t'The', 'ones'\n",
        "they're, were having\t\t'they', 're', 'were', 'hav'"
      ],
      "metadata": {
        "id": "C2VPVPXHDuOK"
      }
    },
    {
      "cell_type": "markdown",
      "source": [
        "💡 🔎 **RegexpTokenizer** is a <font color = 'red'>_class_</font>.\n",
        "- An example code line:\n",
        "  - **from nltk.tokenize import RegexpTokenizer**\n",
        "\n",
        "- It is part of the nltk.tokenize module and is used for tokenizing text based on regular expression patterns. When you import RegexpTokenizer using this line, you make the RegexpTokenizer class available for use in your Python script or program. You can create instances of this class to tokenize text based on specific regular expression patterns."
      ],
      "metadata": {
        "id": "G0zlFBZHqpez"
      }
    },
    {
      "cell_type": "markdown",
      "source": [
        "💡 Alternatively, you can break RegexpTokenizer(\"[\\w]+\") into two seperate codelines:\n",
        "\n",
        "    - A regular expression pattern is defined within the RegexpTokenize constructor: [\\w]+.\n",
        "    - This pattern is used for tokenization.\n",
        "\n",
        "pattern = r'\\w+'\n",
        "\n",
        "retokenize = RegexpTokenizer(pattern)\n",
        "\n",
        "    - This codeline is designed to match one or more consecutive word characters."
      ],
      "metadata": {
        "id": "mjZfVDj3GLfe"
      }
    },
    {
      "cell_type": "code",
      "source": [
        "# Open the input file in read-text mode ('rt')\n",
        "fl = open(\"/content/RepositoryName/FolderName/FileName.txt\", 'rt')\n",
        "# Read the content, convert it to lowercase, and replace unwanted characters\n",
        "fl_content = fl.read().lower().replace(\"\\n\", \" \").replace(\"\\“\", \"\").replace(\"\\\"\", \"\").replace(\"\\”\", \"\").replace(\"_\", \"\").replace(\"[illustration]\", \"\").replace(\"[Illustration]\", \"\")\n",
        "\n",
        "# Close the input file\n",
        "fl.close()\n",
        "\n",
        "# Write the processed content to a new text file\n",
        "with open('FileName_lower.txt', 'w') as cf:  # Ensure .txt extension is added\n",
        "    cf.write(fl_content)\n",
        "\n",
        "# Print the processed content to verify\n",
        "print(fl_content)"
      ],
      "metadata": {
        "colab": {
          "base_uri": "https://localhost:8080/"
        },
        "id": "XPxAGAqwIDl-",
        "outputId": "8269e51e-6546-4890-943d-568a8c091034"
      },
      "execution_count": null,
      "outputs": [
        {
          "output_type": "stream",
          "name": "stdout",
          "text": [
            "once upon a time there were four little rabbits, and their names were--            flopsy,        mopsy,    cotton-tail, and peter.  they lived with their mother in a sand-bank, underneath the root of a very big fir-tree.  'now my dears,' said old mrs. rabbit one morning, 'you may go into the fields or down the lane, but don't go into mr. mcgregor's garden: your father had an accident there; he was put in a pie by mrs. mcgregor.'      'now run along, and don't get into mischief. i am going out.'  then old mrs. rabbit took a basket and her umbrella, and went through the wood to the baker's. she bought a loaf of brown bread and five currant buns.      flopsy, mopsy, and cottontail, who were good little bunnies, went down the lane to gather blackberries:  but peter, who was very naughty, ran straight away to mr. mcgregor's garden, and squeezed under the gate!      first he ate some lettuces and some french beans; and then he ate some radishes;  and then, feeling rather sick, he went to look for some parsley.      but round the end of a cucumber frame, whom should he meet but mr. mcgregor!  mr. mcgregor was on his hands and knees planting out young cabbages, but he jumped up and ran after peter, waving a rake and calling out, 'stop thief!'      peter was most dreadfully frightened; he rushed all over the garden, for he had forgotten the way back to the gate.  he lost one of his shoes among the cabbages, and the other shoe amongst the potatoes.  after losing them, he ran on four legs and went faster, so that i think he might have got away altogether if he had not unfortunately run into a gooseberry net, and got caught by the large buttons on his jacket. it was a blue jacket with brass buttons, quite new.      peter gave himself up for lost, and shed big tears; but his sobs were overheard by some friendly sparrows, who flew to him in great excitement, and implored him to exert himself.  mr. mcgregor came up with a sieve, which he intended to pop upon the top of peter; but peter wriggled out just in time, leaving his jacket behind him.      and rushed into the tool-shed, and jumped into a can. it would have been a beautiful thing to hide in, if it had not had so much water in it.  mr. mcgregor was quite sure that peter was somewhere in the tool-shed, perhaps hidden underneath a flower-pot. he began to turn them over carefully, looking under each.  presently peter sneezed--'kertyschoo!' mr. mcgregor was after him in no time.      and tried to put his foot upon peter, who jumped out of a window, upsetting three plants. the window was too small for mr. mcgregor, and he was tired of running after peter. he went back to his work.  peter sat down to rest; he was out of breath and trembling with fright, and he had not the least idea which way to go. also he was very damp with sitting in that can.  after a time he began to wander about, going lippity--lippity--not very fast, and looking all round.      he found a door in a wall; but it was locked, and there was no room for a fat little rabbit to squeeze underneath.  an old mouse was running in and out over the stone doorstep, carrying peas and beans to her family in the wood. peter asked her the way to the gate, but she had such a large pea in her mouth that she could not answer. she only shook her head at him. peter began to cry.  then he tried to find his way straight across the garden, but he became more and more puzzled. presently, he came to a pond where mr. mcgregor filled his water-cans. a white cat was staring at some gold-fish, she sat very, very still, but now and then the tip of her tail twitched as if it were alive. peter thought it best to go away without speaking to her; he had heard about cats from his cousin, little benjamin bunny.      he went back towards the tool-shed, but suddenly, quite close to him, he heard the noise of a hoe--scr-r-ritch, scratch, scratch, scritch. peter scuttered underneath the bushes. but presently, as nothing happened, he came out, and climbed upon a wheelbarrow and peeped over. the first thing he saw was mr. mcgregor hoeing onions. his back was turned towards peter, and beyond him was the gate!  peter got down very quietly off the wheelbarrow; and started running as fast as he could go, along a straight walk behind some black-currant bushes.  mr. mcgregor caught sight of him at the corner, but peter did not care. he slipped underneath the gate, and was safe at last in the wood outside the garden.      mr. mcgregor hung up the little jacket and the shoes for a scare-crow to frighten the blackbirds.  peter never stopped running or looked behind him till he got home to the big fir-tree.  he was so tired that he flopped down upon the nice soft sand on the floor of the rabbit-hole and shut his eyes. his mother was busy cooking; she wondered what he had done with his clothes. it was the second little jacket and pair of shoes that peter had lost in a fortnight!    i am sorry to say that peter was not very well during the evening.  his mother put him to bed, and made some camomile tea; and she gave a dose of it to peter!  'one table-spoonful to be taken at bed-time.'      but flopsy, mopsy, and cotton-tail had bread and milk and blackberries for supper. \n"
          ]
        }
      ]
    }
  ]
}