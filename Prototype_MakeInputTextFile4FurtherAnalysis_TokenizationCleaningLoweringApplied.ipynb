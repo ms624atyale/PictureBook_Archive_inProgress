{
  "nbformat": 4,
  "nbformat_minor": 0,
  "metadata": {
    "colab": {
      "provenance": [],
      "authorship_tag": "ABX9TyORS7nFd/NiY4rhe76SVGJA",
      "include_colab_link": true
    },
    "kernelspec": {
      "name": "python3",
      "display_name": "Python 3"
    },
    "language_info": {
      "name": "python"
    }
  },
  "cells": [
    {
      "cell_type": "markdown",
      "metadata": {
        "id": "view-in-github",
        "colab_type": "text"
      },
      "source": [
        "<a href=\"https://colab.research.google.com/github/ms624atyale/PictureBook_Archive_inProgress/blob/main/Prototype_MakeInputTextFile4FurtherAnalysis_TokenizationCleaningLoweringApplied.ipynb\" target=\"_parent\"><img src=\"https://colab.research.google.com/assets/colab-badge.svg\" alt=\"Open In Colab\"/></a>"
      ]
    },
    {
      "cell_type": "markdown",
      "source": [
        "#<font color = 'red'> 🐹🐾 **Final Script to make input text for further analysis (e.g., Wordcloud, Lexical Diversity, etc.)**\n",
        "\n",
        "  - # <font color = 'blue'> 🐹🐾 **Important & Useful!**\n",
        "  - ### **This script is based on plain text for \"Household Stories by the Brothers Grimm\" under the Repository of \"PictureBook_Archive_inProgress\".**"
      ],
      "metadata": {
        "id": "DlRtfSQYdex6"
      }
    },
    {
      "cell_type": "code",
      "execution_count": 1,
      "metadata": {
        "colab": {
          "base_uri": "https://localhost:8080/"
        },
        "id": "GT0LsgO85fCm",
        "outputId": "275e49d7-5f5a-46dd-997e-b59fca7b121f"
      },
      "outputs": [
        {
          "output_type": "stream",
          "name": "stdout",
          "text": [
            "Cloning into 'PictureBook_Archive_inProgress'...\n",
            "remote: Enumerating objects: 76, done.\u001b[K\n",
            "remote: Counting objects: 100% (76/76), done.\u001b[K\n",
            "remote: Compressing objects: 100% (72/72), done.\u001b[K\n",
            "remote: Total 76 (delta 24), reused 0 (delta 0), pack-reused 0 (from 0)\u001b[K\n",
            "Receiving objects: 100% (76/76), 1.46 MiB | 2.35 MiB/s, done.\n",
            "Resolving deltas: 100% (24/24), done.\n"
          ]
        }
      ],
      "source": [
        "! git clone https://github.com/ms624atyale/PictureBook_Archive_inProgress   #Make copy of the whole repository of a github account."
      ]
    },
    {
      "cell_type": "markdown",
      "source": [
        "#<font color = 'red'> 🆘 ALERT\n",
        "# <font color = 'red'> 🆘 Important & Useful!\n",
        "\n",
        "## ⤵️ In order to avoid setting a new repository being created as a subdirectory of the old one\n",
        "\n",
        "### <font color = 'blue'> <Python code>\n",
        "### <font color = 'blue'> %cd /content  # Moves to the default root directory in Google Colab\n",
        "\n",
        "## ⤵️ In order to delete the old directory forcefully\n",
        "\n",
        "### <font color = 'blue'> **▶️ Python code**\n",
        "### <font color = 'gray'> **! rm -rf NameofOldRepository**          \n",
        "\n",
        "### <font color = 'gray'> (e.g., **! rm -rf PictureBook_Archive_inProgress**)\n",
        "\n",
        "# **If this is not working out, rename the old, existing folder as <Eliminated> and drag the new repository under %content/.**\n"
      ],
      "metadata": {
        "id": "fPmvcdN0KP_0"
      }
    },
    {
      "cell_type": "code",
      "source": [
        "%cd /content/PictureBook_Archive_inProgress"
      ],
      "metadata": {
        "colab": {
          "base_uri": "https://localhost:8080/"
        },
        "id": "NyQD9Oxo7Me6",
        "outputId": "c3186d90-beb0-477e-89d3-c9cfaf7f83cc"
      },
      "execution_count": 2,
      "outputs": [
        {
          "output_type": "stream",
          "name": "stdout",
          "text": [
            "/content/PictureBook_Archive_inProgress\n"
          ]
        }
      ]
    },
    {
      "cell_type": "code",
      "source": [
        "# 1️⃣ You need to modify this codeline 🍩🎂🍎🍏🍦\n",
        "file = open(\"/content/PictureBook_Archive_inProgress/Data/0_RedRidingHoodOtherStories_Body_WattyPiper.txt\", 'rt')\n",
        "\n",
        "txt = file.read()\n",
        "print(txt)\n",
        "file.close() #Using this close()function, you are no longer using your text file of the current workingdirectory with open()function."
      ],
      "metadata": {
        "id": "r_tn-hJp9gje",
        "collapsed": true,
        "outputId": "3ebe2ace-8600-4d1f-cda9-4d41194355ae",
        "colab": {
          "base_uri": "https://localhost:8080/"
        }
      },
      "execution_count": 11,
      "outputs": [
        {
          "output_type": "stream",
          "name": "stdout",
          "text": [
            "LITTLE RED RIDING HOOD\n",
            "\n",
            "\n",
            "There was once a sweet little maid who lived with her father and\n",
            "mother in a pretty little cottage at the edge of the village. At the\n",
            "further end of the wood was another pretty cottage and in it lived her\n",
            "grandmother.\n",
            "\n",
            "Everybody loved this little girl, her grandmother perhaps loved her\n",
            "most of all and gave her a great many pretty things. Once she gave her\n",
            "a red cloak with a hood which she always wore, so people called her\n",
            "Little Red Riding Hood.\n",
            "\n",
            "One morning Little Red Riding Hood's mother said, \"Put on your things\n",
            "and go to see your grandmother. She has been ill; take along this\n",
            "basket for her. I have put in it eggs, butter and cake, and other\n",
            "dainties.\"\n",
            "\n",
            "It was a bright and sunny morning. Red Riding Hood was so happy that\n",
            "at first she wanted to dance through the wood. All around her grew\n",
            "pretty wild flowers which she loved so well and she stopped to pick a\n",
            "bunch for her grandmother.\n",
            "\n",
            "Little Red Riding Hood wandered from her path and was stooping to pick\n",
            "a flower when from behind her a gruff voice said, \"Good morning,\n",
            "Little Red Riding Hood.\" Little Red Riding Hood turned around and saw\n",
            "a great big wolf, but Little Red Riding Hood did not know what a\n",
            "wicked beast the wolf was, so she was not afraid.\n",
            "\n",
            "\"What have you in that basket, Little Red Riding Hood?\"\n",
            "\n",
            "\"Eggs and butter and cake, Mr. Wolf.\"\n",
            "\n",
            "\"Where are you going with them, Little Red Riding Hood?\"\n",
            "\n",
            "\"I am going to my grandmother, who is ill, Mr. Wolf.\"\n",
            "\n",
            "\"Where does your grandmother live, Little Red Riding Hood?\"\n",
            "\n",
            "\"Along that path, past the wild rose bushes, then through the gate at\n",
            "the end of the wood, Mr. Wolf.\"\n",
            "\n",
            "Then Mr. Wolf again said \"Good morning\" and set off, and Little Red\n",
            "Riding Hood again went in search of wild flowers.\n",
            "\n",
            "At last he reached the porch covered with flowers and knocked at the\n",
            "door of the cottage.\n",
            "\n",
            "\"Who is there?\" called the grandmother.\n",
            "\n",
            "\"Little Red Riding Hood,\" said the wicked wolf.\n",
            "\n",
            "\"Press the latch, open the door, and walk in,\" said the grandmother.\n",
            "\n",
            "The wolf pressed the latch, and walked in where the grandmother lay in\n",
            "bed. He made one jump at her, but she jumped out of bed into a closet.\n",
            "Then the wolf put on the cap which she had dropped and crept under the\n",
            "bedclothes.\n",
            "\n",
            "In a short while Little Red Riding Hood knocked at the door, and\n",
            "walked in, saying, \"Good morning, Grandmother, I have brought you\n",
            "eggs, butter and cake, and here is a bunch of flowers I gathered in\n",
            "the wood.\" As she came nearer the bed she said, \"What big ears you\n",
            "have, Grandmother.\"\n",
            "\n",
            "\"All the better to hear you with, my dear.\"\n",
            "\n",
            "\"What big eyes you have, Grandmother.\"\n",
            "\n",
            "\"All the better to see you with, my dear.\"\n",
            "\n",
            "\"But, Grandmother, what a big nose you have.\"\n",
            "\n",
            "\"All the better to smell with, my dear.\"\n",
            "\n",
            "\"But, Grandmother, what a big mouth you have.\"\n",
            "\n",
            "\"All the better to eat you up with, my dear,\" he said as he sprang at\n",
            "Little Red Riding Hood.\n",
            "\n",
            "Just at that moment Little Red Riding Hood's father was passing the\n",
            "cottage and heard her scream. He rushed in and with his axe chopped\n",
            "off Mr. Wolf's head.\n",
            "\n",
            "Everybody was happy that Little Red Riding Hood had escaped the wolf.\n",
            "Then Little Red Riding Hood's father carried her home and they lived\n",
            "happily ever after.\n",
            "\n",
            "\n",
            "\n",
            "\n",
            "THE GOOSE-GIRL\n",
            "\n",
            "\n",
            "There was once an old Queen who had a very beautiful daughter. The\n",
            "time came when the maiden was to go into a distant country to be\n",
            "married. The old Queen packed up everything suitable to a royal\n",
            "outfit.\n",
            "\n",
            "She also sent a Waiting-woman with her. When the hour of departure\n",
            "came they bade each other a sorrowful farewell and set out for the\n",
            "bridegroom's country.\n",
            "\n",
            "When they had ridden for a time the Princess became very thirsty, and\n",
            "said to the Waiting-woman, \"Go down and fetch me some water in my cup\n",
            "from the stream. I must have something to drink.\"\n",
            "\n",
            "\"If you are thirsty,\" said the Waiting-woman, \"dismount yourself, lie\n",
            "down by the water and drink. I don't choose to be your servant.\"\n",
            "\n",
            "Being very thirsty, the Princess dismounted, and knelt by the flowing\n",
            "water.\n",
            "\n",
            "Now, when she was about to mount her horse again, the Waiting-woman\n",
            "said, \"By rights your horse belongs to me; this jade will do for you!\"\n",
            "\n",
            "The poor little Princess was obliged to give way. Then the\n",
            "Waiting-woman, in a harsh voice, ordered her to take off her royal\n",
            "robes, and to put on her own mean garments. Finally she forced her to\n",
            "swear that she would not tell a person at the Court what had taken\n",
            "place. Had she not taken the oath she would have been killed on the\n",
            "spot.\n",
            "\n",
            "There was great rejoicing when they arrived at the castle. The Prince\n",
            "hurried towards them, and lifted the Waiting-woman from her horse,\n",
            "thinking she was his bride. She was led upstairs, but the real\n",
            "Princess had to stay below.\n",
            "\n",
            "The old King looked out of the window and saw the delicate, pretty\n",
            "little creature standing in the courtyard; so he asked the bride about\n",
            "her companion.\n",
            "\n",
            "\"I picked her up on the way, and brought her with me for company. Give\n",
            "the girl something to do to keep her from idling.\"\n",
            "\n",
            "The old King said, \"I have a little lad who looks after the geese; she\n",
            "may help him.\"\n",
            "\n",
            "The boy was called little Conrad, and the real bride was sent with him\n",
            "to look after the geese. When they reached the meadow, the Princess\n",
            "sat down on the grass and let down her hair, and when Conrad saw it he\n",
            "was so delighted that he wanted to pluck some out; but she said--\n",
            "\n",
            "  \"Blow, blow, little breeze,\n",
            "  And Conrad's hat seize.\n",
            "  Let him join in the chase\n",
            "  While away it is whirled,\n",
            "  Till my tresses are curled\n",
            "  And I rest in my place.\"\n",
            "\n",
            "Then a strong wind sprang up, which blew away Conrad's hat right over\n",
            "the fields, and he had to run after it. When he came back her hair was\n",
            "all put up again.\n",
            "\n",
            "When they got home Conrad went to the King and said, \"I won't tend the\n",
            "geese with that maiden again.\"\n",
            "\n",
            "\"Why not?\" asked the King.\n",
            "\n",
            "Then Conrad went on to tell the King all that had happened in the\n",
            "field. The King ordered Conrad to go next day as usual and he followed\n",
            "into the field and hid behind a bush. He saw it happen just as Conrad\n",
            "had told him. Thereupon he went away unnoticed; and in the evening,\n",
            "when the Goose-girl came home, he asked her why she did all these\n",
            "things.\n",
            "\n",
            "\"That I may not tell you,\" she answered.\n",
            "\n",
            "Then he said, \"If you won't tell me, then tell the iron stove there;\"\n",
            "and he went away.\n",
            "\n",
            "She crept up to the stove and unburdened her heart to it. The King\n",
            "stood outside by the pipes of the stove and heard all she said. Then\n",
            "he came back, and caused royal robes to be put upon her, and her\n",
            "beauty was a marvel. Then he called his son and told him that he had a\n",
            "false bride, but that the true bride was here.\n",
            "\n",
            "The Prince was charmed with her beauty and a great banquet was\n",
            "prepared. The bridegroom sat at the head of the table, with the\n",
            "Princess on one side and the Waiting-woman at the other; but she did\n",
            "not recognize the Princess.\n",
            "\n",
            "When they had eaten, the King put a riddle to the Waiting-woman. \"What\n",
            "does a person deserve that deceives his master?\" telling the whole\n",
            "story.\n",
            "\n",
            "The false bride answered, \"He must be put into a barrel and dragged\n",
            "along by two white horses till he is dead.\"\n",
            "\n",
            "\"That is your doom,\" said the King, \"and the judgment shall be carried\n",
            "out.\"\n",
            "\n",
            "When the sentence was fulfilled, the young Prince married his true\n",
            "bride, and they lived together in peace and happiness.\n",
            "\n",
            "\n",
            "\n",
            "\n",
            "BABES IN THE WOOD\n",
            "\n",
            "\n",
            "Once upon a time there lived two little children whose parents were\n",
            "ill unto death. They begged their brother to care for the two little\n",
            "ones as he would his own.\n",
            "\n",
            "The uncle promised he would be a father to them, but he soon began to\n",
            "scheme to possess the money the parents had left in his care for the\n",
            "children. He sent for two robbers and bargained with them to take the\n",
            "two babes into the woods and kill them.\n",
            "\n",
            "After going many miles into the woods one of the robbers said, \"Let us\n",
            "not kill the little children, they never harmed us.\" The other robber\n",
            "would not consent, so they came to blows. This frightened the children\n",
            "so much that they ran away and did not see the robbers again.\n",
            "\n",
            "They wandered on and on until they became so tired and hungry that at\n",
            "length they sat down at the foot of a tree and cried as if their\n",
            "hearts would break. The little birds heard them and began to trill\n",
            "sweet lullabies, which presently lulled them to rest.\n",
            "\n",
            "The birdies knew that the children would die of cold and hunger, so\n",
            "they covered them with leaves of crimson and brown and green. They\n",
            "then told the angels in Heaven the sad story of the lost babes, and\n",
            "one of the white-robed angels flew down to earth and carried both the\n",
            "little ones back to Heaven, so that when they awoke they were no\n",
            "longer tired and hungry, but were again with their dear mother.\n",
            "\n",
            "\n",
            "\n",
            "\n",
            "THE SLEEPING BEAUTY\n",
            "\n",
            "\n",
            "Once upon a time there was a king and queen who for a very long time\n",
            "had no children, and when at length a little daughter was born to them\n",
            "they were so pleased that they gave a christening feast to which they\n",
            "invited a number of fairies. But, unfortunately, they left out one\n",
            "rather cross old fairy, and she was so angry that she said the\n",
            "princess should die when she reached the age of sixteen, by pricking\n",
            "her hand with a spindle.\n",
            "\n",
            "All the other fairies present, except one, had already given the\n",
            "princess their beautiful gifts, and this last one said she could not\n",
            "prevent part of the wicked wish coming true; but her gift should be\n",
            "that the princess should not really die, but only fall into a deep\n",
            "sleep, which should last for a hundred years, and at the end of that\n",
            "time she should be awakened by a king's son.\n",
            "\n",
            "It all happened as the fairies had predicted. When the princess was\n",
            "sixteen years old she saw an old woman spinning and took the spindle\n",
            "from her to try this strange new work. Instantly she pricked her hand\n",
            "and fell into a deep sleep, as did everyone else in the palace. There\n",
            "she lay in a bower of roses, year after year, and the hedge around the\n",
            "palace garden grew so tall and thick that at last you could not have\n",
            "told that there was a castle at all.\n",
            "\n",
            "At the end of the hundred years a king's son heard of the castle and\n",
            "the enchanted princess who lay asleep there and determined to rescue\n",
            "her. So he cut his way through the thick prickly hedge and at length\n",
            "he came to the princess. When he saw how lovely and how sweet she\n",
            "looked he fell in love with her and, stooping, kissed her lips.\n",
            "\n",
            "At once she awoke and with her the king and queen and all the\n",
            "courtiers, who had fallen asleep at the same time.\n",
            "\n",
            "As the princess was as much taken with the prince's appearance as he\n",
            "was with hers, they decided to be married. And so the wedding was\n",
            "celebrated the same day with great pomp and ceremony.\n",
            "\n",
            "\n",
            "\n",
            "\n",
            "SNOWDROP AND SEVEN LITTLE DWARFS\n",
            "\n",
            "\n",
            "Once upon a time there was a little princess called Snowdrop, who had\n",
            "a cruel step-mother who was jealous of her. The Queen had a magic\n",
            "mirror, which could speak to her, and when she looked into it and\n",
            "asked who was the fairest lady in the land the mirror told her she\n",
            "was, for she was very beautiful; but as Snowdrop grew up she became\n",
            "still more lovely than her step-mother and the mirror did not fail to\n",
            "tell the Queen this.\n",
            "\n",
            "So she ordered one of her huntsmen to take Snowdrop away and kill her;\n",
            "but he was too tender-hearted to do this and left the maiden in the\n",
            "wood and went home again. Snowdrop wandered about until she came to\n",
            "the house of seven little dwarfs, and they were so kind as to take her\n",
            "in and let her live with them. She used to make their seven little\n",
            "beds, and prepare the meals for the seven little men, and they were\n",
            "all quite happy until the Queen found out from her mirror that\n",
            "Snowdrop was alive still, for, as it always told the truth, it still\n",
            "told her Snowdrop was the fairest lady in the land.\n",
            "\n",
            "She decided that Snowdrop must die, so she dyed her face and dressed\n",
            "up like an old pedlar, and in this disguise she went to the home of\n",
            "the seven Dwarfs and called out, \"Laces for sale.\"\n",
            "\n",
            "Snowdrop peeped out of the window and said, \"Good-day, mother; what\n",
            "have you to sell?\"\n",
            "\n",
            "\"Good laces, fine laces, laces of every color,\" and she held out one\n",
            "that was made of gay silk.\n",
            "\n",
            "Snowdrop opened the door and bought the pretty lace.\n",
            "\n",
            "\"Child,\" said the old woman, \"you are a sight, let me lace you\n",
            "properly for once.\"\n",
            "\n",
            "Snowdrop placed herself before the old woman, who laced her so quickly\n",
            "and so tightly that she took away Snowdrop's breath and she fell down\n",
            "as though dead.\n",
            "\n",
            "Not long after the seven dwarfs came home they found that she was\n",
            "laced too tight and cut the lace, whereupon Snowdrop began to breathe\n",
            "and soon came back to life again.\n",
            "\n",
            "When the Queen got home and found by asking her mirror that Snowdrop\n",
            "was still alive, she planned to make an end of her for good, so she\n",
            "made a poisoned comb and disguised herself to look like a different\n",
            "old woman.\n",
            "\n",
            "She journeyed to the dwarfs' home and induced Snowdrop to let her comb\n",
            "her hair. The minute she put the poisoned comb in her hair Snowdrop\n",
            "fell down as though dead.\n",
            "\n",
            "When the seven dwarfs came home they found their poor Snowdrop on the\n",
            "floor, and suspecting the bad Queen began to look for the cause, soon\n",
            "finding the comb. No sooner had they removed it than Snowdrop came to\n",
            "life again.\n",
            "\n",
            "Upon the Queen's return home she found by asking her mirror that\n",
            "Snowdrop still lived, so she disguised herself a third time and came\n",
            "to the dwarfs' little house and gave Snowdrop a poisoned apple. As\n",
            "soon as the little princess took a bite it stuck in her throat and\n",
            "choked her.\n",
            "\n",
            "Oh! how grieved were the good little dwarfs. They made a fine glass\n",
            "coffin, and put Snowdrop into it and were carrying her away to bury\n",
            "her when they met a prince, who fell in love with the little dead\n",
            "maiden, and begged the dwarfs to give her to him.\n",
            "\n",
            "The dwarfs were so sorry for him they consented, and the prince's\n",
            "servants were about to carry the coffin away when they stumbled and\n",
            "fell over the root of a tree. Snowdrop received such a violent jerk\n",
            "that the poisonous apple was jerked right out of her throat and she\n",
            "sat up alive and well again.\n",
            "\n",
            "_Of course_ she married the prince, and she, her husband and the good\n",
            "little dwarfs lived happily ever after, but the cruel step-mother came\n",
            "to a bad end, and no one was even sorry for her.\n",
            "\n"
          ]
        }
      ]
    },
    {
      "cell_type": "code",
      "source": [
        "!pip install nltk\n",
        "import nltk\n",
        "nltk.download('punkt')\n",
        "nltk.download('punkt_tab')"
      ],
      "metadata": {
        "colab": {
          "base_uri": "https://localhost:8080/"
        },
        "id": "gBwuDza2-JwS",
        "outputId": "28e4517f-18aa-4a8d-8403-b91e4565d099",
        "collapsed": true
      },
      "execution_count": 12,
      "outputs": [
        {
          "output_type": "stream",
          "name": "stdout",
          "text": [
            "Requirement already satisfied: nltk in /usr/local/lib/python3.11/dist-packages (3.9.1)\n",
            "Requirement already satisfied: click in /usr/local/lib/python3.11/dist-packages (from nltk) (8.1.8)\n",
            "Requirement already satisfied: joblib in /usr/local/lib/python3.11/dist-packages (from nltk) (1.4.2)\n",
            "Requirement already satisfied: regex>=2021.8.3 in /usr/local/lib/python3.11/dist-packages (from nltk) (2024.11.6)\n",
            "Requirement already satisfied: tqdm in /usr/local/lib/python3.11/dist-packages (from nltk) (4.67.1)\n"
          ]
        },
        {
          "output_type": "stream",
          "name": "stderr",
          "text": [
            "[nltk_data] Downloading package punkt to /root/nltk_data...\n",
            "[nltk_data]   Package punkt is already up-to-date!\n",
            "[nltk_data] Downloading package punkt_tab to /root/nltk_data...\n",
            "[nltk_data]   Package punkt_tab is already up-to-date!\n"
          ]
        },
        {
          "output_type": "execute_result",
          "data": {
            "text/plain": [
              "True"
            ]
          },
          "metadata": {},
          "execution_count": 12
        }
      ]
    },
    {
      "cell_type": "code",
      "source": [
        "from nltk.tokenize import sent_tokenize\n",
        "sentence = sent_tokenize(txt)\n",
        "print('Sentence Tokenized: %s' %sentence)"
      ],
      "metadata": {
        "colab": {
          "base_uri": "https://localhost:8080/"
        },
        "id": "6nya4AxT-2iR",
        "outputId": "c6f67f58-f50f-47b6-9021-c49f9c063cc8"
      },
      "execution_count": 13,
      "outputs": [
        {
          "output_type": "stream",
          "name": "stdout",
          "text": [
            "Sentence Tokenized: ['LITTLE RED RIDING HOOD\\n\\n\\nThere was once a sweet little maid who lived with her father and\\nmother in a pretty little cottage at the edge of the village.', 'At the\\nfurther end of the wood was another pretty cottage and in it lived her\\ngrandmother.', 'Everybody loved this little girl, her grandmother perhaps loved her\\nmost of all and gave her a great many pretty things.', 'Once she gave her\\na red cloak with a hood which she always wore, so people called her\\nLittle Red Riding Hood.', 'One morning Little Red Riding Hood\\'s mother said, \"Put on your things\\nand go to see your grandmother.', 'She has been ill; take along this\\nbasket for her.', 'I have put in it eggs, butter and cake, and other\\ndainties.\"', 'It was a bright and sunny morning.', 'Red Riding Hood was so happy that\\nat first she wanted to dance through the wood.', 'All around her grew\\npretty wild flowers which she loved so well and she stopped to pick a\\nbunch for her grandmother.', 'Little Red Riding Hood wandered from her path and was stooping to pick\\na flower when from behind her a gruff voice said, \"Good morning,\\nLittle Red Riding Hood.\"', 'Little Red Riding Hood turned around and saw\\na great big wolf, but Little Red Riding Hood did not know what a\\nwicked beast the wolf was, so she was not afraid.', '\"What have you in that basket, Little Red Riding Hood?\"', '\"Eggs and butter and cake, Mr.', 'Wolf.\"', '\"Where are you going with them, Little Red Riding Hood?\"', '\"I am going to my grandmother, who is ill, Mr.', 'Wolf.\"', '\"Where does your grandmother live, Little Red Riding Hood?\"', '\"Along that path, past the wild rose bushes, then through the gate at\\nthe end of the wood, Mr.', 'Wolf.\"', 'Then Mr. Wolf again said \"Good morning\" and set off, and Little Red\\nRiding Hood again went in search of wild flowers.', 'At last he reached the porch covered with flowers and knocked at the\\ndoor of the cottage.', '\"Who is there?\"', 'called the grandmother.', '\"Little Red Riding Hood,\" said the wicked wolf.', '\"Press the latch, open the door, and walk in,\" said the grandmother.', 'The wolf pressed the latch, and walked in where the grandmother lay in\\nbed.', 'He made one jump at her, but she jumped out of bed into a closet.', 'Then the wolf put on the cap which she had dropped and crept under the\\nbedclothes.', 'In a short while Little Red Riding Hood knocked at the door, and\\nwalked in, saying, \"Good morning, Grandmother, I have brought you\\neggs, butter and cake, and here is a bunch of flowers I gathered in\\nthe wood.\"', 'As she came nearer the bed she said, \"What big ears you\\nhave, Grandmother.\"', '\"All the better to hear you with, my dear.\"', '\"What big eyes you have, Grandmother.\"', '\"All the better to see you with, my dear.\"', '\"But, Grandmother, what a big nose you have.\"', '\"All the better to smell with, my dear.\"', '\"But, Grandmother, what a big mouth you have.\"', '\"All the better to eat you up with, my dear,\" he said as he sprang at\\nLittle Red Riding Hood.', \"Just at that moment Little Red Riding Hood's father was passing the\\ncottage and heard her scream.\", \"He rushed in and with his axe chopped\\noff Mr. Wolf's head.\", 'Everybody was happy that Little Red Riding Hood had escaped the wolf.', \"Then Little Red Riding Hood's father carried her home and they lived\\nhappily ever after.\", 'THE GOOSE-GIRL\\n\\n\\nThere was once an old Queen who had a very beautiful daughter.', 'The\\ntime came when the maiden was to go into a distant country to be\\nmarried.', 'The old Queen packed up everything suitable to a royal\\noutfit.', 'She also sent a Waiting-woman with her.', \"When the hour of departure\\ncame they bade each other a sorrowful farewell and set out for the\\nbridegroom's country.\", 'When they had ridden for a time the Princess became very thirsty, and\\nsaid to the Waiting-woman, \"Go down and fetch me some water in my cup\\nfrom the stream.', 'I must have something to drink.\"', '\"If you are thirsty,\" said the Waiting-woman, \"dismount yourself, lie\\ndown by the water and drink.', 'I don\\'t choose to be your servant.\"', 'Being very thirsty, the Princess dismounted, and knelt by the flowing\\nwater.', 'Now, when she was about to mount her horse again, the Waiting-woman\\nsaid, \"By rights your horse belongs to me; this jade will do for you!\"', 'The poor little Princess was obliged to give way.', 'Then the\\nWaiting-woman, in a harsh voice, ordered her to take off her royal\\nrobes, and to put on her own mean garments.', 'Finally she forced her to\\nswear that she would not tell a person at the Court what had taken\\nplace.', 'Had she not taken the oath she would have been killed on the\\nspot.', 'There was great rejoicing when they arrived at the castle.', 'The Prince\\nhurried towards them, and lifted the Waiting-woman from her horse,\\nthinking she was his bride.', 'She was led upstairs, but the real\\nPrincess had to stay below.', 'The old King looked out of the window and saw the delicate, pretty\\nlittle creature standing in the courtyard; so he asked the bride about\\nher companion.', '\"I picked her up on the way, and brought her with me for company.', 'Give\\nthe girl something to do to keep her from idling.\"', 'The old King said, \"I have a little lad who looks after the geese; she\\nmay help him.\"', 'The boy was called little Conrad, and the real bride was sent with him\\nto look after the geese.', 'When they reached the meadow, the Princess\\nsat down on the grass and let down her hair, and when Conrad saw it he\\nwas so delighted that he wanted to pluck some out; but she said--\\n\\n  \"Blow, blow, little breeze,\\n  And Conrad\\'s hat seize.', 'Let him join in the chase\\n  While away it is whirled,\\n  Till my tresses are curled\\n  And I rest in my place.\"', \"Then a strong wind sprang up, which blew away Conrad's hat right over\\nthe fields, and he had to run after it.\", 'When he came back her hair was\\nall put up again.', 'When they got home Conrad went to the King and said, \"I won\\'t tend the\\ngeese with that maiden again.\"', '\"Why not?\"', 'asked the King.', 'Then Conrad went on to tell the King all that had happened in the\\nfield.', 'The King ordered Conrad to go next day as usual and he followed\\ninto the field and hid behind a bush.', 'He saw it happen just as Conrad\\nhad told him.', 'Thereupon he went away unnoticed; and in the evening,\\nwhen the Goose-girl came home, he asked her why she did all these\\nthings.', '\"That I may not tell you,\" she answered.', 'Then he said, \"If you won\\'t tell me, then tell the iron stove there;\"\\nand he went away.', 'She crept up to the stove and unburdened her heart to it.', 'The King\\nstood outside by the pipes of the stove and heard all she said.', 'Then\\nhe came back, and caused royal robes to be put upon her, and her\\nbeauty was a marvel.', 'Then he called his son and told him that he had a\\nfalse bride, but that the true bride was here.', 'The Prince was charmed with her beauty and a great banquet was\\nprepared.', 'The bridegroom sat at the head of the table, with the\\nPrincess on one side and the Waiting-woman at the other; but she did\\nnot recognize the Princess.', 'When they had eaten, the King put a riddle to the Waiting-woman.', '\"What\\ndoes a person deserve that deceives his master?\"', 'telling the whole\\nstory.', 'The false bride answered, \"He must be put into a barrel and dragged\\nalong by two white horses till he is dead.\"', '\"That is your doom,\" said the King, \"and the judgment shall be carried\\nout.\"', 'When the sentence was fulfilled, the young Prince married his true\\nbride, and they lived together in peace and happiness.', 'BABES IN THE WOOD\\n\\n\\nOnce upon a time there lived two little children whose parents were\\nill unto death.', 'They begged their brother to care for the two little\\nones as he would his own.', 'The uncle promised he would be a father to them, but he soon began to\\nscheme to possess the money the parents had left in his care for the\\nchildren.', 'He sent for two robbers and bargained with them to take the\\ntwo babes into the woods and kill them.', 'After going many miles into the woods one of the robbers said, \"Let us\\nnot kill the little children, they never harmed us.\"', 'The other robber\\nwould not consent, so they came to blows.', 'This frightened the children\\nso much that they ran away and did not see the robbers again.', 'They wandered on and on until they became so tired and hungry that at\\nlength they sat down at the foot of a tree and cried as if their\\nhearts would break.', 'The little birds heard them and began to trill\\nsweet lullabies, which presently lulled them to rest.', 'The birdies knew that the children would die of cold and hunger, so\\nthey covered them with leaves of crimson and brown and green.', 'They\\nthen told the angels in Heaven the sad story of the lost babes, and\\none of the white-robed angels flew down to earth and carried both the\\nlittle ones back to Heaven, so that when they awoke they were no\\nlonger tired and hungry, but were again with their dear mother.', 'THE SLEEPING BEAUTY\\n\\n\\nOnce upon a time there was a king and queen who for a very long time\\nhad no children, and when at length a little daughter was born to them\\nthey were so pleased that they gave a christening feast to which they\\ninvited a number of fairies.', 'But, unfortunately, they left out one\\nrather cross old fairy, and she was so angry that she said the\\nprincess should die when she reached the age of sixteen, by pricking\\nher hand with a spindle.', \"All the other fairies present, except one, had already given the\\nprincess their beautiful gifts, and this last one said she could not\\nprevent part of the wicked wish coming true; but her gift should be\\nthat the princess should not really die, but only fall into a deep\\nsleep, which should last for a hundred years, and at the end of that\\ntime she should be awakened by a king's son.\", 'It all happened as the fairies had predicted.', 'When the princess was\\nsixteen years old she saw an old woman spinning and took the spindle\\nfrom her to try this strange new work.', 'Instantly she pricked her hand\\nand fell into a deep sleep, as did everyone else in the palace.', 'There\\nshe lay in a bower of roses, year after year, and the hedge around the\\npalace garden grew so tall and thick that at last you could not have\\ntold that there was a castle at all.', \"At the end of the hundred years a king's son heard of the castle and\\nthe enchanted princess who lay asleep there and determined to rescue\\nher.\", 'So he cut his way through the thick prickly hedge and at length\\nhe came to the princess.', 'When he saw how lovely and how sweet she\\nlooked he fell in love with her and, stooping, kissed her lips.', 'At once she awoke and with her the king and queen and all the\\ncourtiers, who had fallen asleep at the same time.', \"As the princess was as much taken with the prince's appearance as he\\nwas with hers, they decided to be married.\", 'And so the wedding was\\ncelebrated the same day with great pomp and ceremony.', 'SNOWDROP AND SEVEN LITTLE DWARFS\\n\\n\\nOnce upon a time there was a little princess called Snowdrop, who had\\na cruel step-mother who was jealous of her.', 'The Queen had a magic\\nmirror, which could speak to her, and when she looked into it and\\nasked who was the fairest lady in the land the mirror told her she\\nwas, for she was very beautiful; but as Snowdrop grew up she became\\nstill more lovely than her step-mother and the mirror did not fail to\\ntell the Queen this.', 'So she ordered one of her huntsmen to take Snowdrop away and kill her;\\nbut he was too tender-hearted to do this and left the maiden in the\\nwood and went home again.', 'Snowdrop wandered about until she came to\\nthe house of seven little dwarfs, and they were so kind as to take her\\nin and let her live with them.', 'She used to make their seven little\\nbeds, and prepare the meals for the seven little men, and they were\\nall quite happy until the Queen found out from her mirror that\\nSnowdrop was alive still, for, as it always told the truth, it still\\ntold her Snowdrop was the fairest lady in the land.', 'She decided that Snowdrop must die, so she dyed her face and dressed\\nup like an old pedlar, and in this disguise she went to the home of\\nthe seven Dwarfs and called out, \"Laces for sale.\"', 'Snowdrop peeped out of the window and said, \"Good-day, mother; what\\nhave you to sell?\"', '\"Good laces, fine laces, laces of every color,\" and she held out one\\nthat was made of gay silk.', 'Snowdrop opened the door and bought the pretty lace.', '\"Child,\" said the old woman, \"you are a sight, let me lace you\\nproperly for once.\"', \"Snowdrop placed herself before the old woman, who laced her so quickly\\nand so tightly that she took away Snowdrop's breath and she fell down\\nas though dead.\", 'Not long after the seven dwarfs came home they found that she was\\nlaced too tight and cut the lace, whereupon Snowdrop began to breathe\\nand soon came back to life again.', 'When the Queen got home and found by asking her mirror that Snowdrop\\nwas still alive, she planned to make an end of her for good, so she\\nmade a poisoned comb and disguised herself to look like a different\\nold woman.', \"She journeyed to the dwarfs' home and induced Snowdrop to let her comb\\nher hair.\", 'The minute she put the poisoned comb in her hair Snowdrop\\nfell down as though dead.', 'When the seven dwarfs came home they found their poor Snowdrop on the\\nfloor, and suspecting the bad Queen began to look for the cause, soon\\nfinding the comb.', 'No sooner had they removed it than Snowdrop came to\\nlife again.', \"Upon the Queen's return home she found by asking her mirror that\\nSnowdrop still lived, so she disguised herself a third time and came\\nto the dwarfs' little house and gave Snowdrop a poisoned apple.\", 'As\\nsoon as the little princess took a bite it stuck in her throat and\\nchoked her.', 'Oh!', 'how grieved were the good little dwarfs.', 'They made a fine glass\\ncoffin, and put Snowdrop into it and were carrying her away to bury\\nher when they met a prince, who fell in love with the little dead\\nmaiden, and begged the dwarfs to give her to him.', \"The dwarfs were so sorry for him they consented, and the prince's\\nservants were about to carry the coffin away when they stumbled and\\nfell over the root of a tree.\", 'Snowdrop received such a violent jerk\\nthat the poisonous apple was jerked right out of her throat and she\\nsat up alive and well again.', '_Of course_ she married the prince, and she, her husband and the good\\nlittle dwarfs lived happily ever after, but the cruel step-mother came\\nto a bad end, and no one was even sorry for her.']\n"
          ]
        }
      ]
    },
    {
      "cell_type": "markdown",
      "source": [
        "###**<font color = 'red'>Gneral Information**\n",
        "Function.\tType\tsymbols or words\tresult\texample\n",
        "RegexpTokenizer()\tpunctuation\t\".\", \",\", \"?\", \"!\", \";\", \":\"\tdeleted\n",
        "apostrophe\t\"'\"\tdeleted\n",
        "word-linking hyphen\t\"-\"\tdeleted\n",
        "phrase-linking hyphen\t\"--\"\tdeleted\n",
        "Capital vs. small\tThe ones\ttokenize\t'The', 'ones'\n",
        "they're, were having\t\t'they', 're', 'were', 'hav'"
      ],
      "metadata": {
        "id": "C2VPVPXHDuOK"
      }
    },
    {
      "cell_type": "markdown",
      "source": [
        "💡 🔎 **RegexpTokenizer** is a <font color = 'red'>_class_</font>.\n",
        "- An example code line:\n",
        "  - **from nltk.tokenize import RegexpTokenizer**\n",
        "\n",
        "- It is part of the nltk.tokenize module and is used for tokenizing text based on regular expression patterns. When you import RegexpTokenizer using this line, you make the RegexpTokenizer class available for use in your Python script or program. You can create instances of this class to tokenize text based on specific regular expression patterns."
      ],
      "metadata": {
        "id": "G0zlFBZHqpez"
      }
    },
    {
      "cell_type": "markdown",
      "source": [
        "#**🌿🍄🌵  ⛔Do Not Run the following code cell, it is just a sample to look up!**\n",
        "###**🔨 **SAMPLE: Replacing capital letters with small characters, elimnating lines and unnecessary symbols & phrases**\n",
        "###**🔨 **Functions are sequentially applied by using a period (e.g., **read().replace(\"\\n\", \" \").replace(\"\\“\", \"\").replace(\"\\\"\", \"\").replace(\"\\”\", \"\").replace(\"_\", \"\").r.replace(\"[illustration]\", \"\")**)\n",
        "\n",
        ">\n",
        "**<font color = 'red'>_Excamples with replace( ) function are such as_**\n",
        "- replace(\"\\n\", \" \")\n",
        "- replace(\"\\“\", \"\")\n",
        "- replace(\"\\\"\", \"\")\n",
        "- replace(\"\\”\", \"\")\n",
        "- replace(\"_\", \"\")\n",
        "- replace(\"[illustration]\"\n",
        "- replace(\"[Illustration]\"\n",
        "- replace(\"[added ]\", \"\").replace(\"[added .]\", \"\")\n",
        "- replace(\"[changed . to ,]\", \"\")\n",
        "- replace(\"[deleted repeated word]\", \"\")\n",
        "- replace(\"[changed ' to ? and added ]\", \"\")\n"
      ],
      "metadata": {
        "id": "76xAM-epQOHo"
      }
    },
    {
      "cell_type": "code",
      "source": [
        "# Open the input file in read-text mode ('rt')\n",
        "fl = open(\"/content/RepositoryName/FolderName/FileName.txt\", 'rt')\n",
        "# Read the content, convert it to lowercase, and replace unwanted characters\n",
        "fl_content = fl.read().lower().replace(\"\\n\", \" \").replace(\"\\“\", \"\").replace(\"\\\"\", \"\").replace(\"\\”\", \"\").replace(\"_\", \"\").replace(\"[illustration]\", \"\").replace(\"[Illustration]\", \"\")\n",
        "\n",
        "# Close the input file\n",
        "fl.close()\n",
        "\n",
        "# Write the processed content to a new text file\n",
        "with open('FileName_lower.txt', 'w') as cf:  # Ensure .txt extension is added\n",
        "    cf.write(fl_content)\n",
        "\n",
        "# Print the processed content to verify\n",
        "print(fl_content)"
      ],
      "metadata": {
        "colab": {
          "base_uri": "https://localhost:8080/"
        },
        "id": "XPxAGAqwIDl-",
        "outputId": "8269e51e-6546-4890-943d-568a8c091034"
      },
      "execution_count": null,
      "outputs": [
        {
          "output_type": "stream",
          "name": "stdout",
          "text": [
            "once upon a time there were four little rabbits, and their names were--            flopsy,        mopsy,    cotton-tail, and peter.  they lived with their mother in a sand-bank, underneath the root of a very big fir-tree.  'now my dears,' said old mrs. rabbit one morning, 'you may go into the fields or down the lane, but don't go into mr. mcgregor's garden: your father had an accident there; he was put in a pie by mrs. mcgregor.'      'now run along, and don't get into mischief. i am going out.'  then old mrs. rabbit took a basket and her umbrella, and went through the wood to the baker's. she bought a loaf of brown bread and five currant buns.      flopsy, mopsy, and cottontail, who were good little bunnies, went down the lane to gather blackberries:  but peter, who was very naughty, ran straight away to mr. mcgregor's garden, and squeezed under the gate!      first he ate some lettuces and some french beans; and then he ate some radishes;  and then, feeling rather sick, he went to look for some parsley.      but round the end of a cucumber frame, whom should he meet but mr. mcgregor!  mr. mcgregor was on his hands and knees planting out young cabbages, but he jumped up and ran after peter, waving a rake and calling out, 'stop thief!'      peter was most dreadfully frightened; he rushed all over the garden, for he had forgotten the way back to the gate.  he lost one of his shoes among the cabbages, and the other shoe amongst the potatoes.  after losing them, he ran on four legs and went faster, so that i think he might have got away altogether if he had not unfortunately run into a gooseberry net, and got caught by the large buttons on his jacket. it was a blue jacket with brass buttons, quite new.      peter gave himself up for lost, and shed big tears; but his sobs were overheard by some friendly sparrows, who flew to him in great excitement, and implored him to exert himself.  mr. mcgregor came up with a sieve, which he intended to pop upon the top of peter; but peter wriggled out just in time, leaving his jacket behind him.      and rushed into the tool-shed, and jumped into a can. it would have been a beautiful thing to hide in, if it had not had so much water in it.  mr. mcgregor was quite sure that peter was somewhere in the tool-shed, perhaps hidden underneath a flower-pot. he began to turn them over carefully, looking under each.  presently peter sneezed--'kertyschoo!' mr. mcgregor was after him in no time.      and tried to put his foot upon peter, who jumped out of a window, upsetting three plants. the window was too small for mr. mcgregor, and he was tired of running after peter. he went back to his work.  peter sat down to rest; he was out of breath and trembling with fright, and he had not the least idea which way to go. also he was very damp with sitting in that can.  after a time he began to wander about, going lippity--lippity--not very fast, and looking all round.      he found a door in a wall; but it was locked, and there was no room for a fat little rabbit to squeeze underneath.  an old mouse was running in and out over the stone doorstep, carrying peas and beans to her family in the wood. peter asked her the way to the gate, but she had such a large pea in her mouth that she could not answer. she only shook her head at him. peter began to cry.  then he tried to find his way straight across the garden, but he became more and more puzzled. presently, he came to a pond where mr. mcgregor filled his water-cans. a white cat was staring at some gold-fish, she sat very, very still, but now and then the tip of her tail twitched as if it were alive. peter thought it best to go away without speaking to her; he had heard about cats from his cousin, little benjamin bunny.      he went back towards the tool-shed, but suddenly, quite close to him, he heard the noise of a hoe--scr-r-ritch, scratch, scratch, scritch. peter scuttered underneath the bushes. but presently, as nothing happened, he came out, and climbed upon a wheelbarrow and peeped over. the first thing he saw was mr. mcgregor hoeing onions. his back was turned towards peter, and beyond him was the gate!  peter got down very quietly off the wheelbarrow; and started running as fast as he could go, along a straight walk behind some black-currant bushes.  mr. mcgregor caught sight of him at the corner, but peter did not care. he slipped underneath the gate, and was safe at last in the wood outside the garden.      mr. mcgregor hung up the little jacket and the shoes for a scare-crow to frighten the blackbirds.  peter never stopped running or looked behind him till he got home to the big fir-tree.  he was so tired that he flopped down upon the nice soft sand on the floor of the rabbit-hole and shut his eyes. his mother was busy cooking; she wondered what he had done with his clothes. it was the second little jacket and pair of shoes that peter had lost in a fortnight!    i am sorry to say that peter was not very well during the evening.  his mother put him to bed, and made some camomile tea; and she gave a dose of it to peter!  'one table-spoonful to be taken at bed-time.'      but flopsy, mopsy, and cotton-tail had bread and milk and blackberries for supper. \n"
          ]
        }
      ]
    },
    {
      "cell_type": "markdown",
      "source": [
        "# 📍📍 **Run the following code cell for applying replace function**"
      ],
      "metadata": {
        "id": "s9pIkCMfI-oc"
      }
    },
    {
      "cell_type": "code",
      "source": [
        "# Open the input file in read-text mode\n",
        "\n",
        "# 2️⃣ You need to modify this codeline 🍩🎂🍎🍏🍦\n",
        "fl = open(\"/content/PictureBook_Archive_inProgress/Data/0_RedRidingHoodOtherStories_Body_WattyPiper.txt\", 'rt')\n",
        "\n",
        "# Read the content, convert to lowercase, and clean unwanted characters\n",
        "fl_content = fl.read().replace(\"\\n\", \" \").replace(\"\\“\", \"\").replace(\"\\\"\", \"\").replace(\"\\”\", \"\").replace(\"_\", \"\").replace(\"[illustration]\", \"\").replace(\"[Illustration]\", \"\")\n",
        "# Close the input file\n",
        "fl.close()\n",
        "\n",
        "# 3️⃣ Write the processed content to a new text file\n",
        "# You need to modify this codeline 🍩🎂🍎🍏🍦\n",
        "with open('/content/0_RedRidingHoodOtherStories_Body_WattyPiper_upper.txt', 'w') as cf:  # Ensure .txt extension is added;\n",
        "  cf.write(fl_content)\n",
        "\n",
        "# Print the processed content to verify\n",
        "print(fl_content)  # Write the cleaned content to the output file"
      ],
      "metadata": {
        "colab": {
          "base_uri": "https://localhost:8080/"
        },
        "id": "kMZTfDGjET13",
        "outputId": "4fc17bc9-8f48-4c3a-a2de-5d102783577a"
      },
      "execution_count": 15,
      "outputs": [
        {
          "output_type": "stream",
          "name": "stdout",
          "text": [
            "LITTLE RED RIDING HOOD   There was once a sweet little maid who lived with her father and mother in a pretty little cottage at the edge of the village. At the further end of the wood was another pretty cottage and in it lived her grandmother.  Everybody loved this little girl, her grandmother perhaps loved her most of all and gave her a great many pretty things. Once she gave her a red cloak with a hood which she always wore, so people called her Little Red Riding Hood.  One morning Little Red Riding Hood's mother said, Put on your things and go to see your grandmother. She has been ill; take along this basket for her. I have put in it eggs, butter and cake, and other dainties.  It was a bright and sunny morning. Red Riding Hood was so happy that at first she wanted to dance through the wood. All around her grew pretty wild flowers which she loved so well and she stopped to pick a bunch for her grandmother.  Little Red Riding Hood wandered from her path and was stooping to pick a flower when from behind her a gruff voice said, Good morning, Little Red Riding Hood. Little Red Riding Hood turned around and saw a great big wolf, but Little Red Riding Hood did not know what a wicked beast the wolf was, so she was not afraid.  What have you in that basket, Little Red Riding Hood?  Eggs and butter and cake, Mr. Wolf.  Where are you going with them, Little Red Riding Hood?  I am going to my grandmother, who is ill, Mr. Wolf.  Where does your grandmother live, Little Red Riding Hood?  Along that path, past the wild rose bushes, then through the gate at the end of the wood, Mr. Wolf.  Then Mr. Wolf again said Good morning and set off, and Little Red Riding Hood again went in search of wild flowers.  At last he reached the porch covered with flowers and knocked at the door of the cottage.  Who is there? called the grandmother.  Little Red Riding Hood, said the wicked wolf.  Press the latch, open the door, and walk in, said the grandmother.  The wolf pressed the latch, and walked in where the grandmother lay in bed. He made one jump at her, but she jumped out of bed into a closet. Then the wolf put on the cap which she had dropped and crept under the bedclothes.  In a short while Little Red Riding Hood knocked at the door, and walked in, saying, Good morning, Grandmother, I have brought you eggs, butter and cake, and here is a bunch of flowers I gathered in the wood. As she came nearer the bed she said, What big ears you have, Grandmother.  All the better to hear you with, my dear.  What big eyes you have, Grandmother.  All the better to see you with, my dear.  But, Grandmother, what a big nose you have.  All the better to smell with, my dear.  But, Grandmother, what a big mouth you have.  All the better to eat you up with, my dear, he said as he sprang at Little Red Riding Hood.  Just at that moment Little Red Riding Hood's father was passing the cottage and heard her scream. He rushed in and with his axe chopped off Mr. Wolf's head.  Everybody was happy that Little Red Riding Hood had escaped the wolf. Then Little Red Riding Hood's father carried her home and they lived happily ever after.     THE GOOSE-GIRL   There was once an old Queen who had a very beautiful daughter. The time came when the maiden was to go into a distant country to be married. The old Queen packed up everything suitable to a royal outfit.  She also sent a Waiting-woman with her. When the hour of departure came they bade each other a sorrowful farewell and set out for the bridegroom's country.  When they had ridden for a time the Princess became very thirsty, and said to the Waiting-woman, Go down and fetch me some water in my cup from the stream. I must have something to drink.  If you are thirsty, said the Waiting-woman, dismount yourself, lie down by the water and drink. I don't choose to be your servant.  Being very thirsty, the Princess dismounted, and knelt by the flowing water.  Now, when she was about to mount her horse again, the Waiting-woman said, By rights your horse belongs to me; this jade will do for you!  The poor little Princess was obliged to give way. Then the Waiting-woman, in a harsh voice, ordered her to take off her royal robes, and to put on her own mean garments. Finally she forced her to swear that she would not tell a person at the Court what had taken place. Had she not taken the oath she would have been killed on the spot.  There was great rejoicing when they arrived at the castle. The Prince hurried towards them, and lifted the Waiting-woman from her horse, thinking she was his bride. She was led upstairs, but the real Princess had to stay below.  The old King looked out of the window and saw the delicate, pretty little creature standing in the courtyard; so he asked the bride about her companion.  I picked her up on the way, and brought her with me for company. Give the girl something to do to keep her from idling.  The old King said, I have a little lad who looks after the geese; she may help him.  The boy was called little Conrad, and the real bride was sent with him to look after the geese. When they reached the meadow, the Princess sat down on the grass and let down her hair, and when Conrad saw it he was so delighted that he wanted to pluck some out; but she said--    Blow, blow, little breeze,   And Conrad's hat seize.   Let him join in the chase   While away it is whirled,   Till my tresses are curled   And I rest in my place.  Then a strong wind sprang up, which blew away Conrad's hat right over the fields, and he had to run after it. When he came back her hair was all put up again.  When they got home Conrad went to the King and said, I won't tend the geese with that maiden again.  Why not? asked the King.  Then Conrad went on to tell the King all that had happened in the field. The King ordered Conrad to go next day as usual and he followed into the field and hid behind a bush. He saw it happen just as Conrad had told him. Thereupon he went away unnoticed; and in the evening, when the Goose-girl came home, he asked her why she did all these things.  That I may not tell you, she answered.  Then he said, If you won't tell me, then tell the iron stove there; and he went away.  She crept up to the stove and unburdened her heart to it. The King stood outside by the pipes of the stove and heard all she said. Then he came back, and caused royal robes to be put upon her, and her beauty was a marvel. Then he called his son and told him that he had a false bride, but that the true bride was here.  The Prince was charmed with her beauty and a great banquet was prepared. The bridegroom sat at the head of the table, with the Princess on one side and the Waiting-woman at the other; but she did not recognize the Princess.  When they had eaten, the King put a riddle to the Waiting-woman. What does a person deserve that deceives his master? telling the whole story.  The false bride answered, He must be put into a barrel and dragged along by two white horses till he is dead.  That is your doom, said the King, and the judgment shall be carried out.  When the sentence was fulfilled, the young Prince married his true bride, and they lived together in peace and happiness.     BABES IN THE WOOD   Once upon a time there lived two little children whose parents were ill unto death. They begged their brother to care for the two little ones as he would his own.  The uncle promised he would be a father to them, but he soon began to scheme to possess the money the parents had left in his care for the children. He sent for two robbers and bargained with them to take the two babes into the woods and kill them.  After going many miles into the woods one of the robbers said, Let us not kill the little children, they never harmed us. The other robber would not consent, so they came to blows. This frightened the children so much that they ran away and did not see the robbers again.  They wandered on and on until they became so tired and hungry that at length they sat down at the foot of a tree and cried as if their hearts would break. The little birds heard them and began to trill sweet lullabies, which presently lulled them to rest.  The birdies knew that the children would die of cold and hunger, so they covered them with leaves of crimson and brown and green. They then told the angels in Heaven the sad story of the lost babes, and one of the white-robed angels flew down to earth and carried both the little ones back to Heaven, so that when they awoke they were no longer tired and hungry, but were again with their dear mother.     THE SLEEPING BEAUTY   Once upon a time there was a king and queen who for a very long time had no children, and when at length a little daughter was born to them they were so pleased that they gave a christening feast to which they invited a number of fairies. But, unfortunately, they left out one rather cross old fairy, and she was so angry that she said the princess should die when she reached the age of sixteen, by pricking her hand with a spindle.  All the other fairies present, except one, had already given the princess their beautiful gifts, and this last one said she could not prevent part of the wicked wish coming true; but her gift should be that the princess should not really die, but only fall into a deep sleep, which should last for a hundred years, and at the end of that time she should be awakened by a king's son.  It all happened as the fairies had predicted. When the princess was sixteen years old she saw an old woman spinning and took the spindle from her to try this strange new work. Instantly she pricked her hand and fell into a deep sleep, as did everyone else in the palace. There she lay in a bower of roses, year after year, and the hedge around the palace garden grew so tall and thick that at last you could not have told that there was a castle at all.  At the end of the hundred years a king's son heard of the castle and the enchanted princess who lay asleep there and determined to rescue her. So he cut his way through the thick prickly hedge and at length he came to the princess. When he saw how lovely and how sweet she looked he fell in love with her and, stooping, kissed her lips.  At once she awoke and with her the king and queen and all the courtiers, who had fallen asleep at the same time.  As the princess was as much taken with the prince's appearance as he was with hers, they decided to be married. And so the wedding was celebrated the same day with great pomp and ceremony.     SNOWDROP AND SEVEN LITTLE DWARFS   Once upon a time there was a little princess called Snowdrop, who had a cruel step-mother who was jealous of her. The Queen had a magic mirror, which could speak to her, and when she looked into it and asked who was the fairest lady in the land the mirror told her she was, for she was very beautiful; but as Snowdrop grew up she became still more lovely than her step-mother and the mirror did not fail to tell the Queen this.  So she ordered one of her huntsmen to take Snowdrop away and kill her; but he was too tender-hearted to do this and left the maiden in the wood and went home again. Snowdrop wandered about until she came to the house of seven little dwarfs, and they were so kind as to take her in and let her live with them. She used to make their seven little beds, and prepare the meals for the seven little men, and they were all quite happy until the Queen found out from her mirror that Snowdrop was alive still, for, as it always told the truth, it still told her Snowdrop was the fairest lady in the land.  She decided that Snowdrop must die, so she dyed her face and dressed up like an old pedlar, and in this disguise she went to the home of the seven Dwarfs and called out, Laces for sale.  Snowdrop peeped out of the window and said, Good-day, mother; what have you to sell?  Good laces, fine laces, laces of every color, and she held out one that was made of gay silk.  Snowdrop opened the door and bought the pretty lace.  Child, said the old woman, you are a sight, let me lace you properly for once.  Snowdrop placed herself before the old woman, who laced her so quickly and so tightly that she took away Snowdrop's breath and she fell down as though dead.  Not long after the seven dwarfs came home they found that she was laced too tight and cut the lace, whereupon Snowdrop began to breathe and soon came back to life again.  When the Queen got home and found by asking her mirror that Snowdrop was still alive, she planned to make an end of her for good, so she made a poisoned comb and disguised herself to look like a different old woman.  She journeyed to the dwarfs' home and induced Snowdrop to let her comb her hair. The minute she put the poisoned comb in her hair Snowdrop fell down as though dead.  When the seven dwarfs came home they found their poor Snowdrop on the floor, and suspecting the bad Queen began to look for the cause, soon finding the comb. No sooner had they removed it than Snowdrop came to life again.  Upon the Queen's return home she found by asking her mirror that Snowdrop still lived, so she disguised herself a third time and came to the dwarfs' little house and gave Snowdrop a poisoned apple. As soon as the little princess took a bite it stuck in her throat and choked her.  Oh! how grieved were the good little dwarfs. They made a fine glass coffin, and put Snowdrop into it and were carrying her away to bury her when they met a prince, who fell in love with the little dead maiden, and begged the dwarfs to give her to him.  The dwarfs were so sorry for him they consented, and the prince's servants were about to carry the coffin away when they stumbled and fell over the root of a tree. Snowdrop received such a violent jerk that the poisonous apple was jerked right out of her throat and she sat up alive and well again.  Of course she married the prince, and she, her husband and the good little dwarfs lived happily ever after, but the cruel step-mother came to a bad end, and no one was even sorry for her. \n"
          ]
        }
      ]
    },
    {
      "cell_type": "code",
      "source": [
        "# 💡💊 Tokenization with RegexpTokeizer\n",
        "\n",
        "# 4️⃣ You need to modify this codeline 🍩🎂🍎🍏🍦\n",
        "nf = open(\"/content/0_RedRidingHoodOtherStories_Body_WattyPiper_upper.txt\", 'rt') #reading the new file as nf using the 'rt'\n",
        "obj = nf.read().lower()\n",
        "\n",
        "# Regular expression to match a quotation mark followed by a space\n",
        "import re\n",
        "f_text = re.sub(r'^\\s+', '\"', obj) #fixed text as f_text\n",
        "print(f_text)\n",
        "print(f_text)\n",
        "\n",
        "# 5️⃣ You need to modify this codeline 🍩🎂🍎🍏🍦\n",
        "with open('/content/0_RedRidingHoodOtherStories_Body_WattyPiper_lower_nosymbol.txt', 'w') as cf:\n",
        "  cf.write(obj)\n",
        "\n",
        "from nltk.tokenize import sent_tokenize\n",
        "sentence = sent_tokenize(obj)\n",
        "print('Sentence Tokenized: %s' %sentence)\n",
        "\n",
        "from nltk.tokenize import RegexpTokenizer #RegexpTokenizer as a class\n",
        "import re\n",
        "\n",
        "tok = RegexpTokenizer(\"[\\w]+\") # Alert: You cannot use RegexpTokenizer() without argument. You need a regexpression formula.\n",
        "\n",
        "tk = tok.tokenize(obj)\n",
        "print('Tokenizing Words with RegexpTokenizer: %s' %tk)\n",
        "\n",
        "print(' '.join(tk)) #small characters\n",
        "#alternatively, use the codeline of ' '.join(tkn)\n",
        "\n"
      ],
      "metadata": {
        "id": "L8NQ_l5kk6zE",
        "collapsed": true,
        "colab": {
          "base_uri": "https://localhost:8080/"
        },
        "outputId": "19cf1c77-5dab-45a3-c801-a93904871fc0"
      },
      "execution_count": 16,
      "outputs": [
        {
          "output_type": "stream",
          "name": "stdout",
          "text": [
            "little red riding hood   there was once a sweet little maid who lived with her father and mother in a pretty little cottage at the edge of the village. at the further end of the wood was another pretty cottage and in it lived her grandmother.  everybody loved this little girl, her grandmother perhaps loved her most of all and gave her a great many pretty things. once she gave her a red cloak with a hood which she always wore, so people called her little red riding hood.  one morning little red riding hood's mother said, put on your things and go to see your grandmother. she has been ill; take along this basket for her. i have put in it eggs, butter and cake, and other dainties.  it was a bright and sunny morning. red riding hood was so happy that at first she wanted to dance through the wood. all around her grew pretty wild flowers which she loved so well and she stopped to pick a bunch for her grandmother.  little red riding hood wandered from her path and was stooping to pick a flower when from behind her a gruff voice said, good morning, little red riding hood. little red riding hood turned around and saw a great big wolf, but little red riding hood did not know what a wicked beast the wolf was, so she was not afraid.  what have you in that basket, little red riding hood?  eggs and butter and cake, mr. wolf.  where are you going with them, little red riding hood?  i am going to my grandmother, who is ill, mr. wolf.  where does your grandmother live, little red riding hood?  along that path, past the wild rose bushes, then through the gate at the end of the wood, mr. wolf.  then mr. wolf again said good morning and set off, and little red riding hood again went in search of wild flowers.  at last he reached the porch covered with flowers and knocked at the door of the cottage.  who is there? called the grandmother.  little red riding hood, said the wicked wolf.  press the latch, open the door, and walk in, said the grandmother.  the wolf pressed the latch, and walked in where the grandmother lay in bed. he made one jump at her, but she jumped out of bed into a closet. then the wolf put on the cap which she had dropped and crept under the bedclothes.  in a short while little red riding hood knocked at the door, and walked in, saying, good morning, grandmother, i have brought you eggs, butter and cake, and here is a bunch of flowers i gathered in the wood. as she came nearer the bed she said, what big ears you have, grandmother.  all the better to hear you with, my dear.  what big eyes you have, grandmother.  all the better to see you with, my dear.  but, grandmother, what a big nose you have.  all the better to smell with, my dear.  but, grandmother, what a big mouth you have.  all the better to eat you up with, my dear, he said as he sprang at little red riding hood.  just at that moment little red riding hood's father was passing the cottage and heard her scream. he rushed in and with his axe chopped off mr. wolf's head.  everybody was happy that little red riding hood had escaped the wolf. then little red riding hood's father carried her home and they lived happily ever after.     the goose-girl   there was once an old queen who had a very beautiful daughter. the time came when the maiden was to go into a distant country to be married. the old queen packed up everything suitable to a royal outfit.  she also sent a waiting-woman with her. when the hour of departure came they bade each other a sorrowful farewell and set out for the bridegroom's country.  when they had ridden for a time the princess became very thirsty, and said to the waiting-woman, go down and fetch me some water in my cup from the stream. i must have something to drink.  if you are thirsty, said the waiting-woman, dismount yourself, lie down by the water and drink. i don't choose to be your servant.  being very thirsty, the princess dismounted, and knelt by the flowing water.  now, when she was about to mount her horse again, the waiting-woman said, by rights your horse belongs to me; this jade will do for you!  the poor little princess was obliged to give way. then the waiting-woman, in a harsh voice, ordered her to take off her royal robes, and to put on her own mean garments. finally she forced her to swear that she would not tell a person at the court what had taken place. had she not taken the oath she would have been killed on the spot.  there was great rejoicing when they arrived at the castle. the prince hurried towards them, and lifted the waiting-woman from her horse, thinking she was his bride. she was led upstairs, but the real princess had to stay below.  the old king looked out of the window and saw the delicate, pretty little creature standing in the courtyard; so he asked the bride about her companion.  i picked her up on the way, and brought her with me for company. give the girl something to do to keep her from idling.  the old king said, i have a little lad who looks after the geese; she may help him.  the boy was called little conrad, and the real bride was sent with him to look after the geese. when they reached the meadow, the princess sat down on the grass and let down her hair, and when conrad saw it he was so delighted that he wanted to pluck some out; but she said--    blow, blow, little breeze,   and conrad's hat seize.   let him join in the chase   while away it is whirled,   till my tresses are curled   and i rest in my place.  then a strong wind sprang up, which blew away conrad's hat right over the fields, and he had to run after it. when he came back her hair was all put up again.  when they got home conrad went to the king and said, i won't tend the geese with that maiden again.  why not? asked the king.  then conrad went on to tell the king all that had happened in the field. the king ordered conrad to go next day as usual and he followed into the field and hid behind a bush. he saw it happen just as conrad had told him. thereupon he went away unnoticed; and in the evening, when the goose-girl came home, he asked her why she did all these things.  that i may not tell you, she answered.  then he said, if you won't tell me, then tell the iron stove there; and he went away.  she crept up to the stove and unburdened her heart to it. the king stood outside by the pipes of the stove and heard all she said. then he came back, and caused royal robes to be put upon her, and her beauty was a marvel. then he called his son and told him that he had a false bride, but that the true bride was here.  the prince was charmed with her beauty and a great banquet was prepared. the bridegroom sat at the head of the table, with the princess on one side and the waiting-woman at the other; but she did not recognize the princess.  when they had eaten, the king put a riddle to the waiting-woman. what does a person deserve that deceives his master? telling the whole story.  the false bride answered, he must be put into a barrel and dragged along by two white horses till he is dead.  that is your doom, said the king, and the judgment shall be carried out.  when the sentence was fulfilled, the young prince married his true bride, and they lived together in peace and happiness.     babes in the wood   once upon a time there lived two little children whose parents were ill unto death. they begged their brother to care for the two little ones as he would his own.  the uncle promised he would be a father to them, but he soon began to scheme to possess the money the parents had left in his care for the children. he sent for two robbers and bargained with them to take the two babes into the woods and kill them.  after going many miles into the woods one of the robbers said, let us not kill the little children, they never harmed us. the other robber would not consent, so they came to blows. this frightened the children so much that they ran away and did not see the robbers again.  they wandered on and on until they became so tired and hungry that at length they sat down at the foot of a tree and cried as if their hearts would break. the little birds heard them and began to trill sweet lullabies, which presently lulled them to rest.  the birdies knew that the children would die of cold and hunger, so they covered them with leaves of crimson and brown and green. they then told the angels in heaven the sad story of the lost babes, and one of the white-robed angels flew down to earth and carried both the little ones back to heaven, so that when they awoke they were no longer tired and hungry, but were again with their dear mother.     the sleeping beauty   once upon a time there was a king and queen who for a very long time had no children, and when at length a little daughter was born to them they were so pleased that they gave a christening feast to which they invited a number of fairies. but, unfortunately, they left out one rather cross old fairy, and she was so angry that she said the princess should die when she reached the age of sixteen, by pricking her hand with a spindle.  all the other fairies present, except one, had already given the princess their beautiful gifts, and this last one said she could not prevent part of the wicked wish coming true; but her gift should be that the princess should not really die, but only fall into a deep sleep, which should last for a hundred years, and at the end of that time she should be awakened by a king's son.  it all happened as the fairies had predicted. when the princess was sixteen years old she saw an old woman spinning and took the spindle from her to try this strange new work. instantly she pricked her hand and fell into a deep sleep, as did everyone else in the palace. there she lay in a bower of roses, year after year, and the hedge around the palace garden grew so tall and thick that at last you could not have told that there was a castle at all.  at the end of the hundred years a king's son heard of the castle and the enchanted princess who lay asleep there and determined to rescue her. so he cut his way through the thick prickly hedge and at length he came to the princess. when he saw how lovely and how sweet she looked he fell in love with her and, stooping, kissed her lips.  at once she awoke and with her the king and queen and all the courtiers, who had fallen asleep at the same time.  as the princess was as much taken with the prince's appearance as he was with hers, they decided to be married. and so the wedding was celebrated the same day with great pomp and ceremony.     snowdrop and seven little dwarfs   once upon a time there was a little princess called snowdrop, who had a cruel step-mother who was jealous of her. the queen had a magic mirror, which could speak to her, and when she looked into it and asked who was the fairest lady in the land the mirror told her she was, for she was very beautiful; but as snowdrop grew up she became still more lovely than her step-mother and the mirror did not fail to tell the queen this.  so she ordered one of her huntsmen to take snowdrop away and kill her; but he was too tender-hearted to do this and left the maiden in the wood and went home again. snowdrop wandered about until she came to the house of seven little dwarfs, and they were so kind as to take her in and let her live with them. she used to make their seven little beds, and prepare the meals for the seven little men, and they were all quite happy until the queen found out from her mirror that snowdrop was alive still, for, as it always told the truth, it still told her snowdrop was the fairest lady in the land.  she decided that snowdrop must die, so she dyed her face and dressed up like an old pedlar, and in this disguise she went to the home of the seven dwarfs and called out, laces for sale.  snowdrop peeped out of the window and said, good-day, mother; what have you to sell?  good laces, fine laces, laces of every color, and she held out one that was made of gay silk.  snowdrop opened the door and bought the pretty lace.  child, said the old woman, you are a sight, let me lace you properly for once.  snowdrop placed herself before the old woman, who laced her so quickly and so tightly that she took away snowdrop's breath and she fell down as though dead.  not long after the seven dwarfs came home they found that she was laced too tight and cut the lace, whereupon snowdrop began to breathe and soon came back to life again.  when the queen got home and found by asking her mirror that snowdrop was still alive, she planned to make an end of her for good, so she made a poisoned comb and disguised herself to look like a different old woman.  she journeyed to the dwarfs' home and induced snowdrop to let her comb her hair. the minute she put the poisoned comb in her hair snowdrop fell down as though dead.  when the seven dwarfs came home they found their poor snowdrop on the floor, and suspecting the bad queen began to look for the cause, soon finding the comb. no sooner had they removed it than snowdrop came to life again.  upon the queen's return home she found by asking her mirror that snowdrop still lived, so she disguised herself a third time and came to the dwarfs' little house and gave snowdrop a poisoned apple. as soon as the little princess took a bite it stuck in her throat and choked her.  oh! how grieved were the good little dwarfs. they made a fine glass coffin, and put snowdrop into it and were carrying her away to bury her when they met a prince, who fell in love with the little dead maiden, and begged the dwarfs to give her to him.  the dwarfs were so sorry for him they consented, and the prince's servants were about to carry the coffin away when they stumbled and fell over the root of a tree. snowdrop received such a violent jerk that the poisonous apple was jerked right out of her throat and she sat up alive and well again.  of course she married the prince, and she, her husband and the good little dwarfs lived happily ever after, but the cruel step-mother came to a bad end, and no one was even sorry for her. \n",
            "little red riding hood   there was once a sweet little maid who lived with her father and mother in a pretty little cottage at the edge of the village. at the further end of the wood was another pretty cottage and in it lived her grandmother.  everybody loved this little girl, her grandmother perhaps loved her most of all and gave her a great many pretty things. once she gave her a red cloak with a hood which she always wore, so people called her little red riding hood.  one morning little red riding hood's mother said, put on your things and go to see your grandmother. she has been ill; take along this basket for her. i have put in it eggs, butter and cake, and other dainties.  it was a bright and sunny morning. red riding hood was so happy that at first she wanted to dance through the wood. all around her grew pretty wild flowers which she loved so well and she stopped to pick a bunch for her grandmother.  little red riding hood wandered from her path and was stooping to pick a flower when from behind her a gruff voice said, good morning, little red riding hood. little red riding hood turned around and saw a great big wolf, but little red riding hood did not know what a wicked beast the wolf was, so she was not afraid.  what have you in that basket, little red riding hood?  eggs and butter and cake, mr. wolf.  where are you going with them, little red riding hood?  i am going to my grandmother, who is ill, mr. wolf.  where does your grandmother live, little red riding hood?  along that path, past the wild rose bushes, then through the gate at the end of the wood, mr. wolf.  then mr. wolf again said good morning and set off, and little red riding hood again went in search of wild flowers.  at last he reached the porch covered with flowers and knocked at the door of the cottage.  who is there? called the grandmother.  little red riding hood, said the wicked wolf.  press the latch, open the door, and walk in, said the grandmother.  the wolf pressed the latch, and walked in where the grandmother lay in bed. he made one jump at her, but she jumped out of bed into a closet. then the wolf put on the cap which she had dropped and crept under the bedclothes.  in a short while little red riding hood knocked at the door, and walked in, saying, good morning, grandmother, i have brought you eggs, butter and cake, and here is a bunch of flowers i gathered in the wood. as she came nearer the bed she said, what big ears you have, grandmother.  all the better to hear you with, my dear.  what big eyes you have, grandmother.  all the better to see you with, my dear.  but, grandmother, what a big nose you have.  all the better to smell with, my dear.  but, grandmother, what a big mouth you have.  all the better to eat you up with, my dear, he said as he sprang at little red riding hood.  just at that moment little red riding hood's father was passing the cottage and heard her scream. he rushed in and with his axe chopped off mr. wolf's head.  everybody was happy that little red riding hood had escaped the wolf. then little red riding hood's father carried her home and they lived happily ever after.     the goose-girl   there was once an old queen who had a very beautiful daughter. the time came when the maiden was to go into a distant country to be married. the old queen packed up everything suitable to a royal outfit.  she also sent a waiting-woman with her. when the hour of departure came they bade each other a sorrowful farewell and set out for the bridegroom's country.  when they had ridden for a time the princess became very thirsty, and said to the waiting-woman, go down and fetch me some water in my cup from the stream. i must have something to drink.  if you are thirsty, said the waiting-woman, dismount yourself, lie down by the water and drink. i don't choose to be your servant.  being very thirsty, the princess dismounted, and knelt by the flowing water.  now, when she was about to mount her horse again, the waiting-woman said, by rights your horse belongs to me; this jade will do for you!  the poor little princess was obliged to give way. then the waiting-woman, in a harsh voice, ordered her to take off her royal robes, and to put on her own mean garments. finally she forced her to swear that she would not tell a person at the court what had taken place. had she not taken the oath she would have been killed on the spot.  there was great rejoicing when they arrived at the castle. the prince hurried towards them, and lifted the waiting-woman from her horse, thinking she was his bride. she was led upstairs, but the real princess had to stay below.  the old king looked out of the window and saw the delicate, pretty little creature standing in the courtyard; so he asked the bride about her companion.  i picked her up on the way, and brought her with me for company. give the girl something to do to keep her from idling.  the old king said, i have a little lad who looks after the geese; she may help him.  the boy was called little conrad, and the real bride was sent with him to look after the geese. when they reached the meadow, the princess sat down on the grass and let down her hair, and when conrad saw it he was so delighted that he wanted to pluck some out; but she said--    blow, blow, little breeze,   and conrad's hat seize.   let him join in the chase   while away it is whirled,   till my tresses are curled   and i rest in my place.  then a strong wind sprang up, which blew away conrad's hat right over the fields, and he had to run after it. when he came back her hair was all put up again.  when they got home conrad went to the king and said, i won't tend the geese with that maiden again.  why not? asked the king.  then conrad went on to tell the king all that had happened in the field. the king ordered conrad to go next day as usual and he followed into the field and hid behind a bush. he saw it happen just as conrad had told him. thereupon he went away unnoticed; and in the evening, when the goose-girl came home, he asked her why she did all these things.  that i may not tell you, she answered.  then he said, if you won't tell me, then tell the iron stove there; and he went away.  she crept up to the stove and unburdened her heart to it. the king stood outside by the pipes of the stove and heard all she said. then he came back, and caused royal robes to be put upon her, and her beauty was a marvel. then he called his son and told him that he had a false bride, but that the true bride was here.  the prince was charmed with her beauty and a great banquet was prepared. the bridegroom sat at the head of the table, with the princess on one side and the waiting-woman at the other; but she did not recognize the princess.  when they had eaten, the king put a riddle to the waiting-woman. what does a person deserve that deceives his master? telling the whole story.  the false bride answered, he must be put into a barrel and dragged along by two white horses till he is dead.  that is your doom, said the king, and the judgment shall be carried out.  when the sentence was fulfilled, the young prince married his true bride, and they lived together in peace and happiness.     babes in the wood   once upon a time there lived two little children whose parents were ill unto death. they begged their brother to care for the two little ones as he would his own.  the uncle promised he would be a father to them, but he soon began to scheme to possess the money the parents had left in his care for the children. he sent for two robbers and bargained with them to take the two babes into the woods and kill them.  after going many miles into the woods one of the robbers said, let us not kill the little children, they never harmed us. the other robber would not consent, so they came to blows. this frightened the children so much that they ran away and did not see the robbers again.  they wandered on and on until they became so tired and hungry that at length they sat down at the foot of a tree and cried as if their hearts would break. the little birds heard them and began to trill sweet lullabies, which presently lulled them to rest.  the birdies knew that the children would die of cold and hunger, so they covered them with leaves of crimson and brown and green. they then told the angels in heaven the sad story of the lost babes, and one of the white-robed angels flew down to earth and carried both the little ones back to heaven, so that when they awoke they were no longer tired and hungry, but were again with their dear mother.     the sleeping beauty   once upon a time there was a king and queen who for a very long time had no children, and when at length a little daughter was born to them they were so pleased that they gave a christening feast to which they invited a number of fairies. but, unfortunately, they left out one rather cross old fairy, and she was so angry that she said the princess should die when she reached the age of sixteen, by pricking her hand with a spindle.  all the other fairies present, except one, had already given the princess their beautiful gifts, and this last one said she could not prevent part of the wicked wish coming true; but her gift should be that the princess should not really die, but only fall into a deep sleep, which should last for a hundred years, and at the end of that time she should be awakened by a king's son.  it all happened as the fairies had predicted. when the princess was sixteen years old she saw an old woman spinning and took the spindle from her to try this strange new work. instantly she pricked her hand and fell into a deep sleep, as did everyone else in the palace. there she lay in a bower of roses, year after year, and the hedge around the palace garden grew so tall and thick that at last you could not have told that there was a castle at all.  at the end of the hundred years a king's son heard of the castle and the enchanted princess who lay asleep there and determined to rescue her. so he cut his way through the thick prickly hedge and at length he came to the princess. when he saw how lovely and how sweet she looked he fell in love with her and, stooping, kissed her lips.  at once she awoke and with her the king and queen and all the courtiers, who had fallen asleep at the same time.  as the princess was as much taken with the prince's appearance as he was with hers, they decided to be married. and so the wedding was celebrated the same day with great pomp and ceremony.     snowdrop and seven little dwarfs   once upon a time there was a little princess called snowdrop, who had a cruel step-mother who was jealous of her. the queen had a magic mirror, which could speak to her, and when she looked into it and asked who was the fairest lady in the land the mirror told her she was, for she was very beautiful; but as snowdrop grew up she became still more lovely than her step-mother and the mirror did not fail to tell the queen this.  so she ordered one of her huntsmen to take snowdrop away and kill her; but he was too tender-hearted to do this and left the maiden in the wood and went home again. snowdrop wandered about until she came to the house of seven little dwarfs, and they were so kind as to take her in and let her live with them. she used to make their seven little beds, and prepare the meals for the seven little men, and they were all quite happy until the queen found out from her mirror that snowdrop was alive still, for, as it always told the truth, it still told her snowdrop was the fairest lady in the land.  she decided that snowdrop must die, so she dyed her face and dressed up like an old pedlar, and in this disguise she went to the home of the seven dwarfs and called out, laces for sale.  snowdrop peeped out of the window and said, good-day, mother; what have you to sell?  good laces, fine laces, laces of every color, and she held out one that was made of gay silk.  snowdrop opened the door and bought the pretty lace.  child, said the old woman, you are a sight, let me lace you properly for once.  snowdrop placed herself before the old woman, who laced her so quickly and so tightly that she took away snowdrop's breath and she fell down as though dead.  not long after the seven dwarfs came home they found that she was laced too tight and cut the lace, whereupon snowdrop began to breathe and soon came back to life again.  when the queen got home and found by asking her mirror that snowdrop was still alive, she planned to make an end of her for good, so she made a poisoned comb and disguised herself to look like a different old woman.  she journeyed to the dwarfs' home and induced snowdrop to let her comb her hair. the minute she put the poisoned comb in her hair snowdrop fell down as though dead.  when the seven dwarfs came home they found their poor snowdrop on the floor, and suspecting the bad queen began to look for the cause, soon finding the comb. no sooner had they removed it than snowdrop came to life again.  upon the queen's return home she found by asking her mirror that snowdrop still lived, so she disguised herself a third time and came to the dwarfs' little house and gave snowdrop a poisoned apple. as soon as the little princess took a bite it stuck in her throat and choked her.  oh! how grieved were the good little dwarfs. they made a fine glass coffin, and put snowdrop into it and were carrying her away to bury her when they met a prince, who fell in love with the little dead maiden, and begged the dwarfs to give her to him.  the dwarfs were so sorry for him they consented, and the prince's servants were about to carry the coffin away when they stumbled and fell over the root of a tree. snowdrop received such a violent jerk that the poisonous apple was jerked right out of her throat and she sat up alive and well again.  of course she married the prince, and she, her husband and the good little dwarfs lived happily ever after, but the cruel step-mother came to a bad end, and no one was even sorry for her. \n",
            "Sentence Tokenized: ['little red riding hood   there was once a sweet little maid who lived with her father and mother in a pretty little cottage at the edge of the village.', 'at the further end of the wood was another pretty cottage and in it lived her grandmother.', 'everybody loved this little girl, her grandmother perhaps loved her most of all and gave her a great many pretty things.', 'once she gave her a red cloak with a hood which she always wore, so people called her little red riding hood.', \"one morning little red riding hood's mother said, put on your things and go to see your grandmother.\", 'she has been ill; take along this basket for her.', 'i have put in it eggs, butter and cake, and other dainties.', 'it was a bright and sunny morning.', 'red riding hood was so happy that at first she wanted to dance through the wood.', 'all around her grew pretty wild flowers which she loved so well and she stopped to pick a bunch for her grandmother.', 'little red riding hood wandered from her path and was stooping to pick a flower when from behind her a gruff voice said, good morning, little red riding hood.', 'little red riding hood turned around and saw a great big wolf, but little red riding hood did not know what a wicked beast the wolf was, so she was not afraid.', 'what have you in that basket, little red riding hood?', 'eggs and butter and cake, mr. wolf.', 'where are you going with them, little red riding hood?', 'i am going to my grandmother, who is ill, mr. wolf.', 'where does your grandmother live, little red riding hood?', 'along that path, past the wild rose bushes, then through the gate at the end of the wood, mr. wolf.', 'then mr. wolf again said good morning and set off, and little red riding hood again went in search of wild flowers.', 'at last he reached the porch covered with flowers and knocked at the door of the cottage.', 'who is there?', 'called the grandmother.', 'little red riding hood, said the wicked wolf.', 'press the latch, open the door, and walk in, said the grandmother.', 'the wolf pressed the latch, and walked in where the grandmother lay in bed.', 'he made one jump at her, but she jumped out of bed into a closet.', 'then the wolf put on the cap which she had dropped and crept under the bedclothes.', 'in a short while little red riding hood knocked at the door, and walked in, saying, good morning, grandmother, i have brought you eggs, butter and cake, and here is a bunch of flowers i gathered in the wood.', 'as she came nearer the bed she said, what big ears you have, grandmother.', 'all the better to hear you with, my dear.', 'what big eyes you have, grandmother.', 'all the better to see you with, my dear.', 'but, grandmother, what a big nose you have.', 'all the better to smell with, my dear.', 'but, grandmother, what a big mouth you have.', 'all the better to eat you up with, my dear, he said as he sprang at little red riding hood.', \"just at that moment little red riding hood's father was passing the cottage and heard her scream.\", \"he rushed in and with his axe chopped off mr. wolf's head.\", 'everybody was happy that little red riding hood had escaped the wolf.', \"then little red riding hood's father carried her home and they lived happily ever after.\", 'the goose-girl   there was once an old queen who had a very beautiful daughter.', 'the time came when the maiden was to go into a distant country to be married.', 'the old queen packed up everything suitable to a royal outfit.', 'she also sent a waiting-woman with her.', \"when the hour of departure came they bade each other a sorrowful farewell and set out for the bridegroom's country.\", 'when they had ridden for a time the princess became very thirsty, and said to the waiting-woman, go down and fetch me some water in my cup from the stream.', 'i must have something to drink.', 'if you are thirsty, said the waiting-woman, dismount yourself, lie down by the water and drink.', \"i don't choose to be your servant.\", 'being very thirsty, the princess dismounted, and knelt by the flowing water.', 'now, when she was about to mount her horse again, the waiting-woman said, by rights your horse belongs to me; this jade will do for you!', 'the poor little princess was obliged to give way.', 'then the waiting-woman, in a harsh voice, ordered her to take off her royal robes, and to put on her own mean garments.', 'finally she forced her to swear that she would not tell a person at the court what had taken place.', 'had she not taken the oath she would have been killed on the spot.', 'there was great rejoicing when they arrived at the castle.', 'the prince hurried towards them, and lifted the waiting-woman from her horse, thinking she was his bride.', 'she was led upstairs, but the real princess had to stay below.', 'the old king looked out of the window and saw the delicate, pretty little creature standing in the courtyard; so he asked the bride about her companion.', 'i picked her up on the way, and brought her with me for company.', 'give the girl something to do to keep her from idling.', 'the old king said, i have a little lad who looks after the geese; she may help him.', 'the boy was called little conrad, and the real bride was sent with him to look after the geese.', \"when they reached the meadow, the princess sat down on the grass and let down her hair, and when conrad saw it he was so delighted that he wanted to pluck some out; but she said--    blow, blow, little breeze,   and conrad's hat seize.\", 'let him join in the chase   while away it is whirled,   till my tresses are curled   and i rest in my place.', \"then a strong wind sprang up, which blew away conrad's hat right over the fields, and he had to run after it.\", 'when he came back her hair was all put up again.', \"when they got home conrad went to the king and said, i won't tend the geese with that maiden again.\", 'why not?', 'asked the king.', 'then conrad went on to tell the king all that had happened in the field.', 'the king ordered conrad to go next day as usual and he followed into the field and hid behind a bush.', 'he saw it happen just as conrad had told him.', 'thereupon he went away unnoticed; and in the evening, when the goose-girl came home, he asked her why she did all these things.', 'that i may not tell you, she answered.', \"then he said, if you won't tell me, then tell the iron stove there; and he went away.\", 'she crept up to the stove and unburdened her heart to it.', 'the king stood outside by the pipes of the stove and heard all she said.', 'then he came back, and caused royal robes to be put upon her, and her beauty was a marvel.', 'then he called his son and told him that he had a false bride, but that the true bride was here.', 'the prince was charmed with her beauty and a great banquet was prepared.', 'the bridegroom sat at the head of the table, with the princess on one side and the waiting-woman at the other; but she did not recognize the princess.', 'when they had eaten, the king put a riddle to the waiting-woman.', 'what does a person deserve that deceives his master?', 'telling the whole story.', 'the false bride answered, he must be put into a barrel and dragged along by two white horses till he is dead.', 'that is your doom, said the king, and the judgment shall be carried out.', 'when the sentence was fulfilled, the young prince married his true bride, and they lived together in peace and happiness.', 'babes in the wood   once upon a time there lived two little children whose parents were ill unto death.', 'they begged their brother to care for the two little ones as he would his own.', 'the uncle promised he would be a father to them, but he soon began to scheme to possess the money the parents had left in his care for the children.', 'he sent for two robbers and bargained with them to take the two babes into the woods and kill them.', 'after going many miles into the woods one of the robbers said, let us not kill the little children, they never harmed us.', 'the other robber would not consent, so they came to blows.', 'this frightened the children so much that they ran away and did not see the robbers again.', 'they wandered on and on until they became so tired and hungry that at length they sat down at the foot of a tree and cried as if their hearts would break.', 'the little birds heard them and began to trill sweet lullabies, which presently lulled them to rest.', 'the birdies knew that the children would die of cold and hunger, so they covered them with leaves of crimson and brown and green.', 'they then told the angels in heaven the sad story of the lost babes, and one of the white-robed angels flew down to earth and carried both the little ones back to heaven, so that when they awoke they were no longer tired and hungry, but were again with their dear mother.', 'the sleeping beauty   once upon a time there was a king and queen who for a very long time had no children, and when at length a little daughter was born to them they were so pleased that they gave a christening feast to which they invited a number of fairies.', 'but, unfortunately, they left out one rather cross old fairy, and she was so angry that she said the princess should die when she reached the age of sixteen, by pricking her hand with a spindle.', \"all the other fairies present, except one, had already given the princess their beautiful gifts, and this last one said she could not prevent part of the wicked wish coming true; but her gift should be that the princess should not really die, but only fall into a deep sleep, which should last for a hundred years, and at the end of that time she should be awakened by a king's son.\", 'it all happened as the fairies had predicted.', 'when the princess was sixteen years old she saw an old woman spinning and took the spindle from her to try this strange new work.', 'instantly she pricked her hand and fell into a deep sleep, as did everyone else in the palace.', 'there she lay in a bower of roses, year after year, and the hedge around the palace garden grew so tall and thick that at last you could not have told that there was a castle at all.', \"at the end of the hundred years a king's son heard of the castle and the enchanted princess who lay asleep there and determined to rescue her.\", 'so he cut his way through the thick prickly hedge and at length he came to the princess.', 'when he saw how lovely and how sweet she looked he fell in love with her and, stooping, kissed her lips.', 'at once she awoke and with her the king and queen and all the courtiers, who had fallen asleep at the same time.', \"as the princess was as much taken with the prince's appearance as he was with hers, they decided to be married.\", 'and so the wedding was celebrated the same day with great pomp and ceremony.', 'snowdrop and seven little dwarfs   once upon a time there was a little princess called snowdrop, who had a cruel step-mother who was jealous of her.', 'the queen had a magic mirror, which could speak to her, and when she looked into it and asked who was the fairest lady in the land the mirror told her she was, for she was very beautiful; but as snowdrop grew up she became still more lovely than her step-mother and the mirror did not fail to tell the queen this.', 'so she ordered one of her huntsmen to take snowdrop away and kill her; but he was too tender-hearted to do this and left the maiden in the wood and went home again.', 'snowdrop wandered about until she came to the house of seven little dwarfs, and they were so kind as to take her in and let her live with them.', 'she used to make their seven little beds, and prepare the meals for the seven little men, and they were all quite happy until the queen found out from her mirror that snowdrop was alive still, for, as it always told the truth, it still told her snowdrop was the fairest lady in the land.', 'she decided that snowdrop must die, so she dyed her face and dressed up like an old pedlar, and in this disguise she went to the home of the seven dwarfs and called out, laces for sale.', 'snowdrop peeped out of the window and said, good-day, mother; what have you to sell?', 'good laces, fine laces, laces of every color, and she held out one that was made of gay silk.', 'snowdrop opened the door and bought the pretty lace.', 'child, said the old woman, you are a sight, let me lace you properly for once.', \"snowdrop placed herself before the old woman, who laced her so quickly and so tightly that she took away snowdrop's breath and she fell down as though dead.\", 'not long after the seven dwarfs came home they found that she was laced too tight and cut the lace, whereupon snowdrop began to breathe and soon came back to life again.', 'when the queen got home and found by asking her mirror that snowdrop was still alive, she planned to make an end of her for good, so she made a poisoned comb and disguised herself to look like a different old woman.', \"she journeyed to the dwarfs' home and induced snowdrop to let her comb her hair.\", 'the minute she put the poisoned comb in her hair snowdrop fell down as though dead.', 'when the seven dwarfs came home they found their poor snowdrop on the floor, and suspecting the bad queen began to look for the cause, soon finding the comb.', 'no sooner had they removed it than snowdrop came to life again.', \"upon the queen's return home she found by asking her mirror that snowdrop still lived, so she disguised herself a third time and came to the dwarfs' little house and gave snowdrop a poisoned apple.\", 'as soon as the little princess took a bite it stuck in her throat and choked her.', 'oh!', 'how grieved were the good little dwarfs.', 'they made a fine glass coffin, and put snowdrop into it and were carrying her away to bury her when they met a prince, who fell in love with the little dead maiden, and begged the dwarfs to give her to him.', \"the dwarfs were so sorry for him they consented, and the prince's servants were about to carry the coffin away when they stumbled and fell over the root of a tree.\", 'snowdrop received such a violent jerk that the poisonous apple was jerked right out of her throat and she sat up alive and well again.', 'of course she married the prince, and she, her husband and the good little dwarfs lived happily ever after, but the cruel step-mother came to a bad end, and no one was even sorry for her.']\n",
            "Tokenizing Words with RegexpTokenizer: ['little', 'red', 'riding', 'hood', 'there', 'was', 'once', 'a', 'sweet', 'little', 'maid', 'who', 'lived', 'with', 'her', 'father', 'and', 'mother', 'in', 'a', 'pretty', 'little', 'cottage', 'at', 'the', 'edge', 'of', 'the', 'village', 'at', 'the', 'further', 'end', 'of', 'the', 'wood', 'was', 'another', 'pretty', 'cottage', 'and', 'in', 'it', 'lived', 'her', 'grandmother', 'everybody', 'loved', 'this', 'little', 'girl', 'her', 'grandmother', 'perhaps', 'loved', 'her', 'most', 'of', 'all', 'and', 'gave', 'her', 'a', 'great', 'many', 'pretty', 'things', 'once', 'she', 'gave', 'her', 'a', 'red', 'cloak', 'with', 'a', 'hood', 'which', 'she', 'always', 'wore', 'so', 'people', 'called', 'her', 'little', 'red', 'riding', 'hood', 'one', 'morning', 'little', 'red', 'riding', 'hood', 's', 'mother', 'said', 'put', 'on', 'your', 'things', 'and', 'go', 'to', 'see', 'your', 'grandmother', 'she', 'has', 'been', 'ill', 'take', 'along', 'this', 'basket', 'for', 'her', 'i', 'have', 'put', 'in', 'it', 'eggs', 'butter', 'and', 'cake', 'and', 'other', 'dainties', 'it', 'was', 'a', 'bright', 'and', 'sunny', 'morning', 'red', 'riding', 'hood', 'was', 'so', 'happy', 'that', 'at', 'first', 'she', 'wanted', 'to', 'dance', 'through', 'the', 'wood', 'all', 'around', 'her', 'grew', 'pretty', 'wild', 'flowers', 'which', 'she', 'loved', 'so', 'well', 'and', 'she', 'stopped', 'to', 'pick', 'a', 'bunch', 'for', 'her', 'grandmother', 'little', 'red', 'riding', 'hood', 'wandered', 'from', 'her', 'path', 'and', 'was', 'stooping', 'to', 'pick', 'a', 'flower', 'when', 'from', 'behind', 'her', 'a', 'gruff', 'voice', 'said', 'good', 'morning', 'little', 'red', 'riding', 'hood', 'little', 'red', 'riding', 'hood', 'turned', 'around', 'and', 'saw', 'a', 'great', 'big', 'wolf', 'but', 'little', 'red', 'riding', 'hood', 'did', 'not', 'know', 'what', 'a', 'wicked', 'beast', 'the', 'wolf', 'was', 'so', 'she', 'was', 'not', 'afraid', 'what', 'have', 'you', 'in', 'that', 'basket', 'little', 'red', 'riding', 'hood', 'eggs', 'and', 'butter', 'and', 'cake', 'mr', 'wolf', 'where', 'are', 'you', 'going', 'with', 'them', 'little', 'red', 'riding', 'hood', 'i', 'am', 'going', 'to', 'my', 'grandmother', 'who', 'is', 'ill', 'mr', 'wolf', 'where', 'does', 'your', 'grandmother', 'live', 'little', 'red', 'riding', 'hood', 'along', 'that', 'path', 'past', 'the', 'wild', 'rose', 'bushes', 'then', 'through', 'the', 'gate', 'at', 'the', 'end', 'of', 'the', 'wood', 'mr', 'wolf', 'then', 'mr', 'wolf', 'again', 'said', 'good', 'morning', 'and', 'set', 'off', 'and', 'little', 'red', 'riding', 'hood', 'again', 'went', 'in', 'search', 'of', 'wild', 'flowers', 'at', 'last', 'he', 'reached', 'the', 'porch', 'covered', 'with', 'flowers', 'and', 'knocked', 'at', 'the', 'door', 'of', 'the', 'cottage', 'who', 'is', 'there', 'called', 'the', 'grandmother', 'little', 'red', 'riding', 'hood', 'said', 'the', 'wicked', 'wolf', 'press', 'the', 'latch', 'open', 'the', 'door', 'and', 'walk', 'in', 'said', 'the', 'grandmother', 'the', 'wolf', 'pressed', 'the', 'latch', 'and', 'walked', 'in', 'where', 'the', 'grandmother', 'lay', 'in', 'bed', 'he', 'made', 'one', 'jump', 'at', 'her', 'but', 'she', 'jumped', 'out', 'of', 'bed', 'into', 'a', 'closet', 'then', 'the', 'wolf', 'put', 'on', 'the', 'cap', 'which', 'she', 'had', 'dropped', 'and', 'crept', 'under', 'the', 'bedclothes', 'in', 'a', 'short', 'while', 'little', 'red', 'riding', 'hood', 'knocked', 'at', 'the', 'door', 'and', 'walked', 'in', 'saying', 'good', 'morning', 'grandmother', 'i', 'have', 'brought', 'you', 'eggs', 'butter', 'and', 'cake', 'and', 'here', 'is', 'a', 'bunch', 'of', 'flowers', 'i', 'gathered', 'in', 'the', 'wood', 'as', 'she', 'came', 'nearer', 'the', 'bed', 'she', 'said', 'what', 'big', 'ears', 'you', 'have', 'grandmother', 'all', 'the', 'better', 'to', 'hear', 'you', 'with', 'my', 'dear', 'what', 'big', 'eyes', 'you', 'have', 'grandmother', 'all', 'the', 'better', 'to', 'see', 'you', 'with', 'my', 'dear', 'but', 'grandmother', 'what', 'a', 'big', 'nose', 'you', 'have', 'all', 'the', 'better', 'to', 'smell', 'with', 'my', 'dear', 'but', 'grandmother', 'what', 'a', 'big', 'mouth', 'you', 'have', 'all', 'the', 'better', 'to', 'eat', 'you', 'up', 'with', 'my', 'dear', 'he', 'said', 'as', 'he', 'sprang', 'at', 'little', 'red', 'riding', 'hood', 'just', 'at', 'that', 'moment', 'little', 'red', 'riding', 'hood', 's', 'father', 'was', 'passing', 'the', 'cottage', 'and', 'heard', 'her', 'scream', 'he', 'rushed', 'in', 'and', 'with', 'his', 'axe', 'chopped', 'off', 'mr', 'wolf', 's', 'head', 'everybody', 'was', 'happy', 'that', 'little', 'red', 'riding', 'hood', 'had', 'escaped', 'the', 'wolf', 'then', 'little', 'red', 'riding', 'hood', 's', 'father', 'carried', 'her', 'home', 'and', 'they', 'lived', 'happily', 'ever', 'after', 'the', 'goose', 'girl', 'there', 'was', 'once', 'an', 'old', 'queen', 'who', 'had', 'a', 'very', 'beautiful', 'daughter', 'the', 'time', 'came', 'when', 'the', 'maiden', 'was', 'to', 'go', 'into', 'a', 'distant', 'country', 'to', 'be', 'married', 'the', 'old', 'queen', 'packed', 'up', 'everything', 'suitable', 'to', 'a', 'royal', 'outfit', 'she', 'also', 'sent', 'a', 'waiting', 'woman', 'with', 'her', 'when', 'the', 'hour', 'of', 'departure', 'came', 'they', 'bade', 'each', 'other', 'a', 'sorrowful', 'farewell', 'and', 'set', 'out', 'for', 'the', 'bridegroom', 's', 'country', 'when', 'they', 'had', 'ridden', 'for', 'a', 'time', 'the', 'princess', 'became', 'very', 'thirsty', 'and', 'said', 'to', 'the', 'waiting', 'woman', 'go', 'down', 'and', 'fetch', 'me', 'some', 'water', 'in', 'my', 'cup', 'from', 'the', 'stream', 'i', 'must', 'have', 'something', 'to', 'drink', 'if', 'you', 'are', 'thirsty', 'said', 'the', 'waiting', 'woman', 'dismount', 'yourself', 'lie', 'down', 'by', 'the', 'water', 'and', 'drink', 'i', 'don', 't', 'choose', 'to', 'be', 'your', 'servant', 'being', 'very', 'thirsty', 'the', 'princess', 'dismounted', 'and', 'knelt', 'by', 'the', 'flowing', 'water', 'now', 'when', 'she', 'was', 'about', 'to', 'mount', 'her', 'horse', 'again', 'the', 'waiting', 'woman', 'said', 'by', 'rights', 'your', 'horse', 'belongs', 'to', 'me', 'this', 'jade', 'will', 'do', 'for', 'you', 'the', 'poor', 'little', 'princess', 'was', 'obliged', 'to', 'give', 'way', 'then', 'the', 'waiting', 'woman', 'in', 'a', 'harsh', 'voice', 'ordered', 'her', 'to', 'take', 'off', 'her', 'royal', 'robes', 'and', 'to', 'put', 'on', 'her', 'own', 'mean', 'garments', 'finally', 'she', 'forced', 'her', 'to', 'swear', 'that', 'she', 'would', 'not', 'tell', 'a', 'person', 'at', 'the', 'court', 'what', 'had', 'taken', 'place', 'had', 'she', 'not', 'taken', 'the', 'oath', 'she', 'would', 'have', 'been', 'killed', 'on', 'the', 'spot', 'there', 'was', 'great', 'rejoicing', 'when', 'they', 'arrived', 'at', 'the', 'castle', 'the', 'prince', 'hurried', 'towards', 'them', 'and', 'lifted', 'the', 'waiting', 'woman', 'from', 'her', 'horse', 'thinking', 'she', 'was', 'his', 'bride', 'she', 'was', 'led', 'upstairs', 'but', 'the', 'real', 'princess', 'had', 'to', 'stay', 'below', 'the', 'old', 'king', 'looked', 'out', 'of', 'the', 'window', 'and', 'saw', 'the', 'delicate', 'pretty', 'little', 'creature', 'standing', 'in', 'the', 'courtyard', 'so', 'he', 'asked', 'the', 'bride', 'about', 'her', 'companion', 'i', 'picked', 'her', 'up', 'on', 'the', 'way', 'and', 'brought', 'her', 'with', 'me', 'for', 'company', 'give', 'the', 'girl', 'something', 'to', 'do', 'to', 'keep', 'her', 'from', 'idling', 'the', 'old', 'king', 'said', 'i', 'have', 'a', 'little', 'lad', 'who', 'looks', 'after', 'the', 'geese', 'she', 'may', 'help', 'him', 'the', 'boy', 'was', 'called', 'little', 'conrad', 'and', 'the', 'real', 'bride', 'was', 'sent', 'with', 'him', 'to', 'look', 'after', 'the', 'geese', 'when', 'they', 'reached', 'the', 'meadow', 'the', 'princess', 'sat', 'down', 'on', 'the', 'grass', 'and', 'let', 'down', 'her', 'hair', 'and', 'when', 'conrad', 'saw', 'it', 'he', 'was', 'so', 'delighted', 'that', 'he', 'wanted', 'to', 'pluck', 'some', 'out', 'but', 'she', 'said', 'blow', 'blow', 'little', 'breeze', 'and', 'conrad', 's', 'hat', 'seize', 'let', 'him', 'join', 'in', 'the', 'chase', 'while', 'away', 'it', 'is', 'whirled', 'till', 'my', 'tresses', 'are', 'curled', 'and', 'i', 'rest', 'in', 'my', 'place', 'then', 'a', 'strong', 'wind', 'sprang', 'up', 'which', 'blew', 'away', 'conrad', 's', 'hat', 'right', 'over', 'the', 'fields', 'and', 'he', 'had', 'to', 'run', 'after', 'it', 'when', 'he', 'came', 'back', 'her', 'hair', 'was', 'all', 'put', 'up', 'again', 'when', 'they', 'got', 'home', 'conrad', 'went', 'to', 'the', 'king', 'and', 'said', 'i', 'won', 't', 'tend', 'the', 'geese', 'with', 'that', 'maiden', 'again', 'why', 'not', 'asked', 'the', 'king', 'then', 'conrad', 'went', 'on', 'to', 'tell', 'the', 'king', 'all', 'that', 'had', 'happened', 'in', 'the', 'field', 'the', 'king', 'ordered', 'conrad', 'to', 'go', 'next', 'day', 'as', 'usual', 'and', 'he', 'followed', 'into', 'the', 'field', 'and', 'hid', 'behind', 'a', 'bush', 'he', 'saw', 'it', 'happen', 'just', 'as', 'conrad', 'had', 'told', 'him', 'thereupon', 'he', 'went', 'away', 'unnoticed', 'and', 'in', 'the', 'evening', 'when', 'the', 'goose', 'girl', 'came', 'home', 'he', 'asked', 'her', 'why', 'she', 'did', 'all', 'these', 'things', 'that', 'i', 'may', 'not', 'tell', 'you', 'she', 'answered', 'then', 'he', 'said', 'if', 'you', 'won', 't', 'tell', 'me', 'then', 'tell', 'the', 'iron', 'stove', 'there', 'and', 'he', 'went', 'away', 'she', 'crept', 'up', 'to', 'the', 'stove', 'and', 'unburdened', 'her', 'heart', 'to', 'it', 'the', 'king', 'stood', 'outside', 'by', 'the', 'pipes', 'of', 'the', 'stove', 'and', 'heard', 'all', 'she', 'said', 'then', 'he', 'came', 'back', 'and', 'caused', 'royal', 'robes', 'to', 'be', 'put', 'upon', 'her', 'and', 'her', 'beauty', 'was', 'a', 'marvel', 'then', 'he', 'called', 'his', 'son', 'and', 'told', 'him', 'that', 'he', 'had', 'a', 'false', 'bride', 'but', 'that', 'the', 'true', 'bride', 'was', 'here', 'the', 'prince', 'was', 'charmed', 'with', 'her', 'beauty', 'and', 'a', 'great', 'banquet', 'was', 'prepared', 'the', 'bridegroom', 'sat', 'at', 'the', 'head', 'of', 'the', 'table', 'with', 'the', 'princess', 'on', 'one', 'side', 'and', 'the', 'waiting', 'woman', 'at', 'the', 'other', 'but', 'she', 'did', 'not', 'recognize', 'the', 'princess', 'when', 'they', 'had', 'eaten', 'the', 'king', 'put', 'a', 'riddle', 'to', 'the', 'waiting', 'woman', 'what', 'does', 'a', 'person', 'deserve', 'that', 'deceives', 'his', 'master', 'telling', 'the', 'whole', 'story', 'the', 'false', 'bride', 'answered', 'he', 'must', 'be', 'put', 'into', 'a', 'barrel', 'and', 'dragged', 'along', 'by', 'two', 'white', 'horses', 'till', 'he', 'is', 'dead', 'that', 'is', 'your', 'doom', 'said', 'the', 'king', 'and', 'the', 'judgment', 'shall', 'be', 'carried', 'out', 'when', 'the', 'sentence', 'was', 'fulfilled', 'the', 'young', 'prince', 'married', 'his', 'true', 'bride', 'and', 'they', 'lived', 'together', 'in', 'peace', 'and', 'happiness', 'babes', 'in', 'the', 'wood', 'once', 'upon', 'a', 'time', 'there', 'lived', 'two', 'little', 'children', 'whose', 'parents', 'were', 'ill', 'unto', 'death', 'they', 'begged', 'their', 'brother', 'to', 'care', 'for', 'the', 'two', 'little', 'ones', 'as', 'he', 'would', 'his', 'own', 'the', 'uncle', 'promised', 'he', 'would', 'be', 'a', 'father', 'to', 'them', 'but', 'he', 'soon', 'began', 'to', 'scheme', 'to', 'possess', 'the', 'money', 'the', 'parents', 'had', 'left', 'in', 'his', 'care', 'for', 'the', 'children', 'he', 'sent', 'for', 'two', 'robbers', 'and', 'bargained', 'with', 'them', 'to', 'take', 'the', 'two', 'babes', 'into', 'the', 'woods', 'and', 'kill', 'them', 'after', 'going', 'many', 'miles', 'into', 'the', 'woods', 'one', 'of', 'the', 'robbers', 'said', 'let', 'us', 'not', 'kill', 'the', 'little', 'children', 'they', 'never', 'harmed', 'us', 'the', 'other', 'robber', 'would', 'not', 'consent', 'so', 'they', 'came', 'to', 'blows', 'this', 'frightened', 'the', 'children', 'so', 'much', 'that', 'they', 'ran', 'away', 'and', 'did', 'not', 'see', 'the', 'robbers', 'again', 'they', 'wandered', 'on', 'and', 'on', 'until', 'they', 'became', 'so', 'tired', 'and', 'hungry', 'that', 'at', 'length', 'they', 'sat', 'down', 'at', 'the', 'foot', 'of', 'a', 'tree', 'and', 'cried', 'as', 'if', 'their', 'hearts', 'would', 'break', 'the', 'little', 'birds', 'heard', 'them', 'and', 'began', 'to', 'trill', 'sweet', 'lullabies', 'which', 'presently', 'lulled', 'them', 'to', 'rest', 'the', 'birdies', 'knew', 'that', 'the', 'children', 'would', 'die', 'of', 'cold', 'and', 'hunger', 'so', 'they', 'covered', 'them', 'with', 'leaves', 'of', 'crimson', 'and', 'brown', 'and', 'green', 'they', 'then', 'told', 'the', 'angels', 'in', 'heaven', 'the', 'sad', 'story', 'of', 'the', 'lost', 'babes', 'and', 'one', 'of', 'the', 'white', 'robed', 'angels', 'flew', 'down', 'to', 'earth', 'and', 'carried', 'both', 'the', 'little', 'ones', 'back', 'to', 'heaven', 'so', 'that', 'when', 'they', 'awoke', 'they', 'were', 'no', 'longer', 'tired', 'and', 'hungry', 'but', 'were', 'again', 'with', 'their', 'dear', 'mother', 'the', 'sleeping', 'beauty', 'once', 'upon', 'a', 'time', 'there', 'was', 'a', 'king', 'and', 'queen', 'who', 'for', 'a', 'very', 'long', 'time', 'had', 'no', 'children', 'and', 'when', 'at', 'length', 'a', 'little', 'daughter', 'was', 'born', 'to', 'them', 'they', 'were', 'so', 'pleased', 'that', 'they', 'gave', 'a', 'christening', 'feast', 'to', 'which', 'they', 'invited', 'a', 'number', 'of', 'fairies', 'but', 'unfortunately', 'they', 'left', 'out', 'one', 'rather', 'cross', 'old', 'fairy', 'and', 'she', 'was', 'so', 'angry', 'that', 'she', 'said', 'the', 'princess', 'should', 'die', 'when', 'she', 'reached', 'the', 'age', 'of', 'sixteen', 'by', 'pricking', 'her', 'hand', 'with', 'a', 'spindle', 'all', 'the', 'other', 'fairies', 'present', 'except', 'one', 'had', 'already', 'given', 'the', 'princess', 'their', 'beautiful', 'gifts', 'and', 'this', 'last', 'one', 'said', 'she', 'could', 'not', 'prevent', 'part', 'of', 'the', 'wicked', 'wish', 'coming', 'true', 'but', 'her', 'gift', 'should', 'be', 'that', 'the', 'princess', 'should', 'not', 'really', 'die', 'but', 'only', 'fall', 'into', 'a', 'deep', 'sleep', 'which', 'should', 'last', 'for', 'a', 'hundred', 'years', 'and', 'at', 'the', 'end', 'of', 'that', 'time', 'she', 'should', 'be', 'awakened', 'by', 'a', 'king', 's', 'son', 'it', 'all', 'happened', 'as', 'the', 'fairies', 'had', 'predicted', 'when', 'the', 'princess', 'was', 'sixteen', 'years', 'old', 'she', 'saw', 'an', 'old', 'woman', 'spinning', 'and', 'took', 'the', 'spindle', 'from', 'her', 'to', 'try', 'this', 'strange', 'new', 'work', 'instantly', 'she', 'pricked', 'her', 'hand', 'and', 'fell', 'into', 'a', 'deep', 'sleep', 'as', 'did', 'everyone', 'else', 'in', 'the', 'palace', 'there', 'she', 'lay', 'in', 'a', 'bower', 'of', 'roses', 'year', 'after', 'year', 'and', 'the', 'hedge', 'around', 'the', 'palace', 'garden', 'grew', 'so', 'tall', 'and', 'thick', 'that', 'at', 'last', 'you', 'could', 'not', 'have', 'told', 'that', 'there', 'was', 'a', 'castle', 'at', 'all', 'at', 'the', 'end', 'of', 'the', 'hundred', 'years', 'a', 'king', 's', 'son', 'heard', 'of', 'the', 'castle', 'and', 'the', 'enchanted', 'princess', 'who', 'lay', 'asleep', 'there', 'and', 'determined', 'to', 'rescue', 'her', 'so', 'he', 'cut', 'his', 'way', 'through', 'the', 'thick', 'prickly', 'hedge', 'and', 'at', 'length', 'he', 'came', 'to', 'the', 'princess', 'when', 'he', 'saw', 'how', 'lovely', 'and', 'how', 'sweet', 'she', 'looked', 'he', 'fell', 'in', 'love', 'with', 'her', 'and', 'stooping', 'kissed', 'her', 'lips', 'at', 'once', 'she', 'awoke', 'and', 'with', 'her', 'the', 'king', 'and', 'queen', 'and', 'all', 'the', 'courtiers', 'who', 'had', 'fallen', 'asleep', 'at', 'the', 'same', 'time', 'as', 'the', 'princess', 'was', 'as', 'much', 'taken', 'with', 'the', 'prince', 's', 'appearance', 'as', 'he', 'was', 'with', 'hers', 'they', 'decided', 'to', 'be', 'married', 'and', 'so', 'the', 'wedding', 'was', 'celebrated', 'the', 'same', 'day', 'with', 'great', 'pomp', 'and', 'ceremony', 'snowdrop', 'and', 'seven', 'little', 'dwarfs', 'once', 'upon', 'a', 'time', 'there', 'was', 'a', 'little', 'princess', 'called', 'snowdrop', 'who', 'had', 'a', 'cruel', 'step', 'mother', 'who', 'was', 'jealous', 'of', 'her', 'the', 'queen', 'had', 'a', 'magic', 'mirror', 'which', 'could', 'speak', 'to', 'her', 'and', 'when', 'she', 'looked', 'into', 'it', 'and', 'asked', 'who', 'was', 'the', 'fairest', 'lady', 'in', 'the', 'land', 'the', 'mirror', 'told', 'her', 'she', 'was', 'for', 'she', 'was', 'very', 'beautiful', 'but', 'as', 'snowdrop', 'grew', 'up', 'she', 'became', 'still', 'more', 'lovely', 'than', 'her', 'step', 'mother', 'and', 'the', 'mirror', 'did', 'not', 'fail', 'to', 'tell', 'the', 'queen', 'this', 'so', 'she', 'ordered', 'one', 'of', 'her', 'huntsmen', 'to', 'take', 'snowdrop', 'away', 'and', 'kill', 'her', 'but', 'he', 'was', 'too', 'tender', 'hearted', 'to', 'do', 'this', 'and', 'left', 'the', 'maiden', 'in', 'the', 'wood', 'and', 'went', 'home', 'again', 'snowdrop', 'wandered', 'about', 'until', 'she', 'came', 'to', 'the', 'house', 'of', 'seven', 'little', 'dwarfs', 'and', 'they', 'were', 'so', 'kind', 'as', 'to', 'take', 'her', 'in', 'and', 'let', 'her', 'live', 'with', 'them', 'she', 'used', 'to', 'make', 'their', 'seven', 'little', 'beds', 'and', 'prepare', 'the', 'meals', 'for', 'the', 'seven', 'little', 'men', 'and', 'they', 'were', 'all', 'quite', 'happy', 'until', 'the', 'queen', 'found', 'out', 'from', 'her', 'mirror', 'that', 'snowdrop', 'was', 'alive', 'still', 'for', 'as', 'it', 'always', 'told', 'the', 'truth', 'it', 'still', 'told', 'her', 'snowdrop', 'was', 'the', 'fairest', 'lady', 'in', 'the', 'land', 'she', 'decided', 'that', 'snowdrop', 'must', 'die', 'so', 'she', 'dyed', 'her', 'face', 'and', 'dressed', 'up', 'like', 'an', 'old', 'pedlar', 'and', 'in', 'this', 'disguise', 'she', 'went', 'to', 'the', 'home', 'of', 'the', 'seven', 'dwarfs', 'and', 'called', 'out', 'laces', 'for', 'sale', 'snowdrop', 'peeped', 'out', 'of', 'the', 'window', 'and', 'said', 'good', 'day', 'mother', 'what', 'have', 'you', 'to', 'sell', 'good', 'laces', 'fine', 'laces', 'laces', 'of', 'every', 'color', 'and', 'she', 'held', 'out', 'one', 'that', 'was', 'made', 'of', 'gay', 'silk', 'snowdrop', 'opened', 'the', 'door', 'and', 'bought', 'the', 'pretty', 'lace', 'child', 'said', 'the', 'old', 'woman', 'you', 'are', 'a', 'sight', 'let', 'me', 'lace', 'you', 'properly', 'for', 'once', 'snowdrop', 'placed', 'herself', 'before', 'the', 'old', 'woman', 'who', 'laced', 'her', 'so', 'quickly', 'and', 'so', 'tightly', 'that', 'she', 'took', 'away', 'snowdrop', 's', 'breath', 'and', 'she', 'fell', 'down', 'as', 'though', 'dead', 'not', 'long', 'after', 'the', 'seven', 'dwarfs', 'came', 'home', 'they', 'found', 'that', 'she', 'was', 'laced', 'too', 'tight', 'and', 'cut', 'the', 'lace', 'whereupon', 'snowdrop', 'began', 'to', 'breathe', 'and', 'soon', 'came', 'back', 'to', 'life', 'again', 'when', 'the', 'queen', 'got', 'home', 'and', 'found', 'by', 'asking', 'her', 'mirror', 'that', 'snowdrop', 'was', 'still', 'alive', 'she', 'planned', 'to', 'make', 'an', 'end', 'of', 'her', 'for', 'good', 'so', 'she', 'made', 'a', 'poisoned', 'comb', 'and', 'disguised', 'herself', 'to', 'look', 'like', 'a', 'different', 'old', 'woman', 'she', 'journeyed', 'to', 'the', 'dwarfs', 'home', 'and', 'induced', 'snowdrop', 'to', 'let', 'her', 'comb', 'her', 'hair', 'the', 'minute', 'she', 'put', 'the', 'poisoned', 'comb', 'in', 'her', 'hair', 'snowdrop', 'fell', 'down', 'as', 'though', 'dead', 'when', 'the', 'seven', 'dwarfs', 'came', 'home', 'they', 'found', 'their', 'poor', 'snowdrop', 'on', 'the', 'floor', 'and', 'suspecting', 'the', 'bad', 'queen', 'began', 'to', 'look', 'for', 'the', 'cause', 'soon', 'finding', 'the', 'comb', 'no', 'sooner', 'had', 'they', 'removed', 'it', 'than', 'snowdrop', 'came', 'to', 'life', 'again', 'upon', 'the', 'queen', 's', 'return', 'home', 'she', 'found', 'by', 'asking', 'her', 'mirror', 'that', 'snowdrop', 'still', 'lived', 'so', 'she', 'disguised', 'herself', 'a', 'third', 'time', 'and', 'came', 'to', 'the', 'dwarfs', 'little', 'house', 'and', 'gave', 'snowdrop', 'a', 'poisoned', 'apple', 'as', 'soon', 'as', 'the', 'little', 'princess', 'took', 'a', 'bite', 'it', 'stuck', 'in', 'her', 'throat', 'and', 'choked', 'her', 'oh', 'how', 'grieved', 'were', 'the', 'good', 'little', 'dwarfs', 'they', 'made', 'a', 'fine', 'glass', 'coffin', 'and', 'put', 'snowdrop', 'into', 'it', 'and', 'were', 'carrying', 'her', 'away', 'to', 'bury', 'her', 'when', 'they', 'met', 'a', 'prince', 'who', 'fell', 'in', 'love', 'with', 'the', 'little', 'dead', 'maiden', 'and', 'begged', 'the', 'dwarfs', 'to', 'give', 'her', 'to', 'him', 'the', 'dwarfs', 'were', 'so', 'sorry', 'for', 'him', 'they', 'consented', 'and', 'the', 'prince', 's', 'servants', 'were', 'about', 'to', 'carry', 'the', 'coffin', 'away', 'when', 'they', 'stumbled', 'and', 'fell', 'over', 'the', 'root', 'of', 'a', 'tree', 'snowdrop', 'received', 'such', 'a', 'violent', 'jerk', 'that', 'the', 'poisonous', 'apple', 'was', 'jerked', 'right', 'out', 'of', 'her', 'throat', 'and', 'she', 'sat', 'up', 'alive', 'and', 'well', 'again', 'of', 'course', 'she', 'married', 'the', 'prince', 'and', 'she', 'her', 'husband', 'and', 'the', 'good', 'little', 'dwarfs', 'lived', 'happily', 'ever', 'after', 'but', 'the', 'cruel', 'step', 'mother', 'came', 'to', 'a', 'bad', 'end', 'and', 'no', 'one', 'was', 'even', 'sorry', 'for', 'her']\n",
            "little red riding hood there was once a sweet little maid who lived with her father and mother in a pretty little cottage at the edge of the village at the further end of the wood was another pretty cottage and in it lived her grandmother everybody loved this little girl her grandmother perhaps loved her most of all and gave her a great many pretty things once she gave her a red cloak with a hood which she always wore so people called her little red riding hood one morning little red riding hood s mother said put on your things and go to see your grandmother she has been ill take along this basket for her i have put in it eggs butter and cake and other dainties it was a bright and sunny morning red riding hood was so happy that at first she wanted to dance through the wood all around her grew pretty wild flowers which she loved so well and she stopped to pick a bunch for her grandmother little red riding hood wandered from her path and was stooping to pick a flower when from behind her a gruff voice said good morning little red riding hood little red riding hood turned around and saw a great big wolf but little red riding hood did not know what a wicked beast the wolf was so she was not afraid what have you in that basket little red riding hood eggs and butter and cake mr wolf where are you going with them little red riding hood i am going to my grandmother who is ill mr wolf where does your grandmother live little red riding hood along that path past the wild rose bushes then through the gate at the end of the wood mr wolf then mr wolf again said good morning and set off and little red riding hood again went in search of wild flowers at last he reached the porch covered with flowers and knocked at the door of the cottage who is there called the grandmother little red riding hood said the wicked wolf press the latch open the door and walk in said the grandmother the wolf pressed the latch and walked in where the grandmother lay in bed he made one jump at her but she jumped out of bed into a closet then the wolf put on the cap which she had dropped and crept under the bedclothes in a short while little red riding hood knocked at the door and walked in saying good morning grandmother i have brought you eggs butter and cake and here is a bunch of flowers i gathered in the wood as she came nearer the bed she said what big ears you have grandmother all the better to hear you with my dear what big eyes you have grandmother all the better to see you with my dear but grandmother what a big nose you have all the better to smell with my dear but grandmother what a big mouth you have all the better to eat you up with my dear he said as he sprang at little red riding hood just at that moment little red riding hood s father was passing the cottage and heard her scream he rushed in and with his axe chopped off mr wolf s head everybody was happy that little red riding hood had escaped the wolf then little red riding hood s father carried her home and they lived happily ever after the goose girl there was once an old queen who had a very beautiful daughter the time came when the maiden was to go into a distant country to be married the old queen packed up everything suitable to a royal outfit she also sent a waiting woman with her when the hour of departure came they bade each other a sorrowful farewell and set out for the bridegroom s country when they had ridden for a time the princess became very thirsty and said to the waiting woman go down and fetch me some water in my cup from the stream i must have something to drink if you are thirsty said the waiting woman dismount yourself lie down by the water and drink i don t choose to be your servant being very thirsty the princess dismounted and knelt by the flowing water now when she was about to mount her horse again the waiting woman said by rights your horse belongs to me this jade will do for you the poor little princess was obliged to give way then the waiting woman in a harsh voice ordered her to take off her royal robes and to put on her own mean garments finally she forced her to swear that she would not tell a person at the court what had taken place had she not taken the oath she would have been killed on the spot there was great rejoicing when they arrived at the castle the prince hurried towards them and lifted the waiting woman from her horse thinking she was his bride she was led upstairs but the real princess had to stay below the old king looked out of the window and saw the delicate pretty little creature standing in the courtyard so he asked the bride about her companion i picked her up on the way and brought her with me for company give the girl something to do to keep her from idling the old king said i have a little lad who looks after the geese she may help him the boy was called little conrad and the real bride was sent with him to look after the geese when they reached the meadow the princess sat down on the grass and let down her hair and when conrad saw it he was so delighted that he wanted to pluck some out but she said blow blow little breeze and conrad s hat seize let him join in the chase while away it is whirled till my tresses are curled and i rest in my place then a strong wind sprang up which blew away conrad s hat right over the fields and he had to run after it when he came back her hair was all put up again when they got home conrad went to the king and said i won t tend the geese with that maiden again why not asked the king then conrad went on to tell the king all that had happened in the field the king ordered conrad to go next day as usual and he followed into the field and hid behind a bush he saw it happen just as conrad had told him thereupon he went away unnoticed and in the evening when the goose girl came home he asked her why she did all these things that i may not tell you she answered then he said if you won t tell me then tell the iron stove there and he went away she crept up to the stove and unburdened her heart to it the king stood outside by the pipes of the stove and heard all she said then he came back and caused royal robes to be put upon her and her beauty was a marvel then he called his son and told him that he had a false bride but that the true bride was here the prince was charmed with her beauty and a great banquet was prepared the bridegroom sat at the head of the table with the princess on one side and the waiting woman at the other but she did not recognize the princess when they had eaten the king put a riddle to the waiting woman what does a person deserve that deceives his master telling the whole story the false bride answered he must be put into a barrel and dragged along by two white horses till he is dead that is your doom said the king and the judgment shall be carried out when the sentence was fulfilled the young prince married his true bride and they lived together in peace and happiness babes in the wood once upon a time there lived two little children whose parents were ill unto death they begged their brother to care for the two little ones as he would his own the uncle promised he would be a father to them but he soon began to scheme to possess the money the parents had left in his care for the children he sent for two robbers and bargained with them to take the two babes into the woods and kill them after going many miles into the woods one of the robbers said let us not kill the little children they never harmed us the other robber would not consent so they came to blows this frightened the children so much that they ran away and did not see the robbers again they wandered on and on until they became so tired and hungry that at length they sat down at the foot of a tree and cried as if their hearts would break the little birds heard them and began to trill sweet lullabies which presently lulled them to rest the birdies knew that the children would die of cold and hunger so they covered them with leaves of crimson and brown and green they then told the angels in heaven the sad story of the lost babes and one of the white robed angels flew down to earth and carried both the little ones back to heaven so that when they awoke they were no longer tired and hungry but were again with their dear mother the sleeping beauty once upon a time there was a king and queen who for a very long time had no children and when at length a little daughter was born to them they were so pleased that they gave a christening feast to which they invited a number of fairies but unfortunately they left out one rather cross old fairy and she was so angry that she said the princess should die when she reached the age of sixteen by pricking her hand with a spindle all the other fairies present except one had already given the princess their beautiful gifts and this last one said she could not prevent part of the wicked wish coming true but her gift should be that the princess should not really die but only fall into a deep sleep which should last for a hundred years and at the end of that time she should be awakened by a king s son it all happened as the fairies had predicted when the princess was sixteen years old she saw an old woman spinning and took the spindle from her to try this strange new work instantly she pricked her hand and fell into a deep sleep as did everyone else in the palace there she lay in a bower of roses year after year and the hedge around the palace garden grew so tall and thick that at last you could not have told that there was a castle at all at the end of the hundred years a king s son heard of the castle and the enchanted princess who lay asleep there and determined to rescue her so he cut his way through the thick prickly hedge and at length he came to the princess when he saw how lovely and how sweet she looked he fell in love with her and stooping kissed her lips at once she awoke and with her the king and queen and all the courtiers who had fallen asleep at the same time as the princess was as much taken with the prince s appearance as he was with hers they decided to be married and so the wedding was celebrated the same day with great pomp and ceremony snowdrop and seven little dwarfs once upon a time there was a little princess called snowdrop who had a cruel step mother who was jealous of her the queen had a magic mirror which could speak to her and when she looked into it and asked who was the fairest lady in the land the mirror told her she was for she was very beautiful but as snowdrop grew up she became still more lovely than her step mother and the mirror did not fail to tell the queen this so she ordered one of her huntsmen to take snowdrop away and kill her but he was too tender hearted to do this and left the maiden in the wood and went home again snowdrop wandered about until she came to the house of seven little dwarfs and they were so kind as to take her in and let her live with them she used to make their seven little beds and prepare the meals for the seven little men and they were all quite happy until the queen found out from her mirror that snowdrop was alive still for as it always told the truth it still told her snowdrop was the fairest lady in the land she decided that snowdrop must die so she dyed her face and dressed up like an old pedlar and in this disguise she went to the home of the seven dwarfs and called out laces for sale snowdrop peeped out of the window and said good day mother what have you to sell good laces fine laces laces of every color and she held out one that was made of gay silk snowdrop opened the door and bought the pretty lace child said the old woman you are a sight let me lace you properly for once snowdrop placed herself before the old woman who laced her so quickly and so tightly that she took away snowdrop s breath and she fell down as though dead not long after the seven dwarfs came home they found that she was laced too tight and cut the lace whereupon snowdrop began to breathe and soon came back to life again when the queen got home and found by asking her mirror that snowdrop was still alive she planned to make an end of her for good so she made a poisoned comb and disguised herself to look like a different old woman she journeyed to the dwarfs home and induced snowdrop to let her comb her hair the minute she put the poisoned comb in her hair snowdrop fell down as though dead when the seven dwarfs came home they found their poor snowdrop on the floor and suspecting the bad queen began to look for the cause soon finding the comb no sooner had they removed it than snowdrop came to life again upon the queen s return home she found by asking her mirror that snowdrop still lived so she disguised herself a third time and came to the dwarfs little house and gave snowdrop a poisoned apple as soon as the little princess took a bite it stuck in her throat and choked her oh how grieved were the good little dwarfs they made a fine glass coffin and put snowdrop into it and were carrying her away to bury her when they met a prince who fell in love with the little dead maiden and begged the dwarfs to give her to him the dwarfs were so sorry for him they consented and the prince s servants were about to carry the coffin away when they stumbled and fell over the root of a tree snowdrop received such a violent jerk that the poisonous apple was jerked right out of her throat and she sat up alive and well again of course she married the prince and she her husband and the good little dwarfs lived happily ever after but the cruel step mother came to a bad end and no one was even sorry for her\n"
          ]
        }
      ]
    },
    {
      "cell_type": "markdown",
      "source": [
        "💡 Alternatively, you can break RegexpTokenizer(\"[\\w]+\") into two seperate codelines:\n",
        "\n",
        "    - A regular expression pattern is defined within the RegexpTokenize constructor: [\\w]+.\n",
        "    - This pattern is used for tokenization.\n",
        "\n",
        "pattern = r'\\w+'\n",
        "\n",
        "retokenize = RegexpTokenizer(pattern)\n",
        "\n",
        "    - This codeline is designed to match one or more consecutive word characters."
      ],
      "metadata": {
        "id": "mjZfVDj3GLfe"
      }
    }
  ]
}